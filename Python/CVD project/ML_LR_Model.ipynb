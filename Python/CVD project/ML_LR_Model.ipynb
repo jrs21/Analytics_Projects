{
  "nbformat": 4,
  "nbformat_minor": 0,
  "metadata": {
    "colab": {
      "name": "ML LR Model.ipynb",
      "provenance": [],
      "collapsed_sections": [],
      "toc_visible": true
    },
    "kernelspec": {
      "name": "python3",
      "display_name": "Python 3"
    },
    "language_info": {
      "name": "python"
    }
  },
  "cells": [
    {
      "cell_type": "markdown",
      "source": [
        "# Logistic Regression"
      ],
      "metadata": {
        "id": "5-8AnJzDVd7t"
      }
    },
    {
      "cell_type": "markdown",
      "source": [
        "## Importing packages"
      ],
      "metadata": {
        "id": "D3zXpGmLVoUf"
      }
    },
    {
      "cell_type": "code",
      "execution_count": 1,
      "metadata": {
        "id": "BzxUK_wTFD-k"
      },
      "outputs": [],
      "source": [
        "import pandas as pd\n",
        "import numpy as np\n",
        "import matplotlib.pyplot as plt\n",
        "import seaborn as sns\n",
        "from sklearn.preprocessing import LabelEncoder\n",
        "from sklearn.model_selection import train_test_split\n",
        "from sklearn.linear_model import LogisticRegression\n",
        "from sklearn.metrics import roc_auc_score\n",
        "from sklearn.metrics import f1_score\n",
        "from sklearn.metrics import roc_curve\n",
        "from sklearn import metrics"
      ]
    },
    {
      "cell_type": "code",
      "source": [
        "from google.colab import drive\n",
        "drive.mount('/content/drive')"
      ],
      "metadata": {
        "colab": {
          "base_uri": "https://localhost:8080/"
        },
        "id": "h8yv3seAFJcj",
        "outputId": "f0a12e64-a3a1-4200-c8f1-c424fb8a890f"
      },
      "execution_count": 2,
      "outputs": [
        {
          "output_type": "stream",
          "name": "stdout",
          "text": [
            "Mounted at /content/drive\n"
          ]
        }
      ]
    },
    {
      "cell_type": "markdown",
      "source": [
        "## Loading in dataset"
      ],
      "metadata": {
        "id": "hYVbztLlVsBK"
      }
    },
    {
      "cell_type": "code",
      "source": [
        "cvd = pd.read_csv('/content/drive/My Drive/Colab Notebooks/Logistic_Model/CVDProjectData_1.csv')"
      ],
      "metadata": {
        "id": "RykE_sIuFLw-"
      },
      "execution_count": 3,
      "outputs": []
    },
    {
      "cell_type": "markdown",
      "source": [
        "## Exploratory Analysis"
      ],
      "metadata": {
        "id": "0nNm0NYmVvYS"
      }
    },
    {
      "cell_type": "code",
      "source": [
        "cvd.head(10)"
      ],
      "metadata": {
        "colab": {
          "base_uri": "https://localhost:8080/",
          "height": 682
        },
        "id": "4bjJnZj2FSEe",
        "outputId": "5245f673-ffe0-4b18-88e9-018457a529ec"
      },
      "execution_count": 4,
      "outputs": [
        {
          "output_type": "execute_result",
          "data": {
            "text/plain": [
              "   Census Tract  Total Population California County    ZIP  \\\n",
              "0    6083000103              3433     Santa Barbara  93105   \n",
              "1    6083001500              2526     Santa Barbara  93108   \n",
              "2    6037262301              2748       Los Angeles  90049   \n",
              "3    6073008501              5969         San Diego  92117   \n",
              "4    6057001204              2273           Nevada   96161   \n",
              "5    6061020105              1056           Placer   96140   \n",
              "6    6037464100              7121       Los Angeles  91108   \n",
              "7    6073017106              4538         San Diego  92067   \n",
              "8    6061020104               841           Placer   96145   \n",
              "9    6059042326              4781           Orange   92677   \n",
              "\n",
              "                       Approximate Location  CES 4.0 Score  \\\n",
              "0  Unincorporated Santa Barbara County area           2.76   \n",
              "1  Unincorporated Santa Barbara County area           2.46   \n",
              "2                               Los Angeles           6.51   \n",
              "3                                 San Diego           5.22   \n",
              "4         Unincorporated Nevada County area           4.00   \n",
              "5         Unincorporated Placer County area           2.91   \n",
              "6                                San Marino           8.07   \n",
              "7                           Rancho Santa Fe           6.40   \n",
              "8         Unincorporated Placer County area           4.21   \n",
              "9                             Laguna Niguel           5.23   \n",
              "\n",
              "   Pollution Burden Score  Asthma  Low Birth Weight  Cardiovascular Disease  \\\n",
              "0                    3.40   17.89              1.56                    4.48   \n",
              "1                    2.48   11.87              0.00                    5.76   \n",
              "2                    5.67   11.25              3.16                    6.47   \n",
              "3                    4.21   22.74              2.49                    6.19   \n",
              "4                    3.22   27.02              3.92                    5.46   \n",
              "5                    2.18   12.21               NaN                    5.64   \n",
              "6                    5.69   10.66              3.57                    5.06   \n",
              "7                    4.47    9.75              3.77                    5.77   \n",
              "8                    2.85   15.89               NaN                    6.44   \n",
              "9                    3.32   19.29              3.48                    9.11   \n",
              "\n",
              "   ...  Other/Multiple (%)  Urban  LILATracts_1And10  LILATracts_halfAnd10  \\\n",
              "0  ...                4.05      0                  0                     0   \n",
              "1  ...                0.99      1                  0                     0   \n",
              "2  ...                1.64      1                  0                     0   \n",
              "3  ...                5.98      1                  0                     0   \n",
              "4  ...                2.51      0                  0                     0   \n",
              "5  ...                3.41      0                  0                     0   \n",
              "6  ...                2.98      1                  0                     0   \n",
              "7  ...                1.98      1                  0                     0   \n",
              "8  ...                3.33      0                  0                     0   \n",
              "9  ...                9.60      1                  0                     0   \n",
              "\n",
              "   LILATracts_1And20  LILATracts_Vehicle  HUNVFlag  LowIncomeTracts  \\\n",
              "0                  0                   0         0                0   \n",
              "1                  0                   0         0                0   \n",
              "2                  0                   0         0                0   \n",
              "3                  0                   0         0                0   \n",
              "4                  0                   0         0                0   \n",
              "5                  0                   0         0                0   \n",
              "6                  0                   0         1                0   \n",
              "7                  0                   0         0                0   \n",
              "8                  0                   0         0                0   \n",
              "9                  0                   0         0                0   \n",
              "\n",
              "   LATractsVehicle_20  CVD Risk Level  \n",
              "0                   0            Mild  \n",
              "1                   0            Mild  \n",
              "2                   0            Mild  \n",
              "3                   0            Mild  \n",
              "4                   0            Mild  \n",
              "5                   0            Mild  \n",
              "6                   1            Mild  \n",
              "7                   0            Mild  \n",
              "8                   0            Mild  \n",
              "9                   0            Mild  \n",
              "\n",
              "[10 rows x 37 columns]"
            ],
            "text/html": [
              "\n",
              "  <div id=\"df-f0c98ed2-1c09-4f26-b4c1-23c5f207bd99\">\n",
              "    <div class=\"colab-df-container\">\n",
              "      <div>\n",
              "<style scoped>\n",
              "    .dataframe tbody tr th:only-of-type {\n",
              "        vertical-align: middle;\n",
              "    }\n",
              "\n",
              "    .dataframe tbody tr th {\n",
              "        vertical-align: top;\n",
              "    }\n",
              "\n",
              "    .dataframe thead th {\n",
              "        text-align: right;\n",
              "    }\n",
              "</style>\n",
              "<table border=\"1\" class=\"dataframe\">\n",
              "  <thead>\n",
              "    <tr style=\"text-align: right;\">\n",
              "      <th></th>\n",
              "      <th>Census Tract</th>\n",
              "      <th>Total Population</th>\n",
              "      <th>California County</th>\n",
              "      <th>ZIP</th>\n",
              "      <th>Approximate Location</th>\n",
              "      <th>CES 4.0 Score</th>\n",
              "      <th>Pollution Burden Score</th>\n",
              "      <th>Asthma</th>\n",
              "      <th>Low Birth Weight</th>\n",
              "      <th>Cardiovascular Disease</th>\n",
              "      <th>...</th>\n",
              "      <th>Other/Multiple (%)</th>\n",
              "      <th>Urban</th>\n",
              "      <th>LILATracts_1And10</th>\n",
              "      <th>LILATracts_halfAnd10</th>\n",
              "      <th>LILATracts_1And20</th>\n",
              "      <th>LILATracts_Vehicle</th>\n",
              "      <th>HUNVFlag</th>\n",
              "      <th>LowIncomeTracts</th>\n",
              "      <th>LATractsVehicle_20</th>\n",
              "      <th>CVD Risk Level</th>\n",
              "    </tr>\n",
              "  </thead>\n",
              "  <tbody>\n",
              "    <tr>\n",
              "      <th>0</th>\n",
              "      <td>6083000103</td>\n",
              "      <td>3433</td>\n",
              "      <td>Santa Barbara</td>\n",
              "      <td>93105</td>\n",
              "      <td>Unincorporated Santa Barbara County area</td>\n",
              "      <td>2.76</td>\n",
              "      <td>3.40</td>\n",
              "      <td>17.89</td>\n",
              "      <td>1.56</td>\n",
              "      <td>4.48</td>\n",
              "      <td>...</td>\n",
              "      <td>4.05</td>\n",
              "      <td>0</td>\n",
              "      <td>0</td>\n",
              "      <td>0</td>\n",
              "      <td>0</td>\n",
              "      <td>0</td>\n",
              "      <td>0</td>\n",
              "      <td>0</td>\n",
              "      <td>0</td>\n",
              "      <td>Mild</td>\n",
              "    </tr>\n",
              "    <tr>\n",
              "      <th>1</th>\n",
              "      <td>6083001500</td>\n",
              "      <td>2526</td>\n",
              "      <td>Santa Barbara</td>\n",
              "      <td>93108</td>\n",
              "      <td>Unincorporated Santa Barbara County area</td>\n",
              "      <td>2.46</td>\n",
              "      <td>2.48</td>\n",
              "      <td>11.87</td>\n",
              "      <td>0.00</td>\n",
              "      <td>5.76</td>\n",
              "      <td>...</td>\n",
              "      <td>0.99</td>\n",
              "      <td>1</td>\n",
              "      <td>0</td>\n",
              "      <td>0</td>\n",
              "      <td>0</td>\n",
              "      <td>0</td>\n",
              "      <td>0</td>\n",
              "      <td>0</td>\n",
              "      <td>0</td>\n",
              "      <td>Mild</td>\n",
              "    </tr>\n",
              "    <tr>\n",
              "      <th>2</th>\n",
              "      <td>6037262301</td>\n",
              "      <td>2748</td>\n",
              "      <td>Los Angeles</td>\n",
              "      <td>90049</td>\n",
              "      <td>Los Angeles</td>\n",
              "      <td>6.51</td>\n",
              "      <td>5.67</td>\n",
              "      <td>11.25</td>\n",
              "      <td>3.16</td>\n",
              "      <td>6.47</td>\n",
              "      <td>...</td>\n",
              "      <td>1.64</td>\n",
              "      <td>1</td>\n",
              "      <td>0</td>\n",
              "      <td>0</td>\n",
              "      <td>0</td>\n",
              "      <td>0</td>\n",
              "      <td>0</td>\n",
              "      <td>0</td>\n",
              "      <td>0</td>\n",
              "      <td>Mild</td>\n",
              "    </tr>\n",
              "    <tr>\n",
              "      <th>3</th>\n",
              "      <td>6073008501</td>\n",
              "      <td>5969</td>\n",
              "      <td>San Diego</td>\n",
              "      <td>92117</td>\n",
              "      <td>San Diego</td>\n",
              "      <td>5.22</td>\n",
              "      <td>4.21</td>\n",
              "      <td>22.74</td>\n",
              "      <td>2.49</td>\n",
              "      <td>6.19</td>\n",
              "      <td>...</td>\n",
              "      <td>5.98</td>\n",
              "      <td>1</td>\n",
              "      <td>0</td>\n",
              "      <td>0</td>\n",
              "      <td>0</td>\n",
              "      <td>0</td>\n",
              "      <td>0</td>\n",
              "      <td>0</td>\n",
              "      <td>0</td>\n",
              "      <td>Mild</td>\n",
              "    </tr>\n",
              "    <tr>\n",
              "      <th>4</th>\n",
              "      <td>6057001204</td>\n",
              "      <td>2273</td>\n",
              "      <td>Nevada</td>\n",
              "      <td>96161</td>\n",
              "      <td>Unincorporated Nevada County area</td>\n",
              "      <td>4.00</td>\n",
              "      <td>3.22</td>\n",
              "      <td>27.02</td>\n",
              "      <td>3.92</td>\n",
              "      <td>5.46</td>\n",
              "      <td>...</td>\n",
              "      <td>2.51</td>\n",
              "      <td>0</td>\n",
              "      <td>0</td>\n",
              "      <td>0</td>\n",
              "      <td>0</td>\n",
              "      <td>0</td>\n",
              "      <td>0</td>\n",
              "      <td>0</td>\n",
              "      <td>0</td>\n",
              "      <td>Mild</td>\n",
              "    </tr>\n",
              "    <tr>\n",
              "      <th>5</th>\n",
              "      <td>6061020105</td>\n",
              "      <td>1056</td>\n",
              "      <td>Placer</td>\n",
              "      <td>96140</td>\n",
              "      <td>Unincorporated Placer County area</td>\n",
              "      <td>2.91</td>\n",
              "      <td>2.18</td>\n",
              "      <td>12.21</td>\n",
              "      <td>NaN</td>\n",
              "      <td>5.64</td>\n",
              "      <td>...</td>\n",
              "      <td>3.41</td>\n",
              "      <td>0</td>\n",
              "      <td>0</td>\n",
              "      <td>0</td>\n",
              "      <td>0</td>\n",
              "      <td>0</td>\n",
              "      <td>0</td>\n",
              "      <td>0</td>\n",
              "      <td>0</td>\n",
              "      <td>Mild</td>\n",
              "    </tr>\n",
              "    <tr>\n",
              "      <th>6</th>\n",
              "      <td>6037464100</td>\n",
              "      <td>7121</td>\n",
              "      <td>Los Angeles</td>\n",
              "      <td>91108</td>\n",
              "      <td>San Marino</td>\n",
              "      <td>8.07</td>\n",
              "      <td>5.69</td>\n",
              "      <td>10.66</td>\n",
              "      <td>3.57</td>\n",
              "      <td>5.06</td>\n",
              "      <td>...</td>\n",
              "      <td>2.98</td>\n",
              "      <td>1</td>\n",
              "      <td>0</td>\n",
              "      <td>0</td>\n",
              "      <td>0</td>\n",
              "      <td>0</td>\n",
              "      <td>1</td>\n",
              "      <td>0</td>\n",
              "      <td>1</td>\n",
              "      <td>Mild</td>\n",
              "    </tr>\n",
              "    <tr>\n",
              "      <th>7</th>\n",
              "      <td>6073017106</td>\n",
              "      <td>4538</td>\n",
              "      <td>San Diego</td>\n",
              "      <td>92067</td>\n",
              "      <td>Rancho Santa Fe</td>\n",
              "      <td>6.40</td>\n",
              "      <td>4.47</td>\n",
              "      <td>9.75</td>\n",
              "      <td>3.77</td>\n",
              "      <td>5.77</td>\n",
              "      <td>...</td>\n",
              "      <td>1.98</td>\n",
              "      <td>1</td>\n",
              "      <td>0</td>\n",
              "      <td>0</td>\n",
              "      <td>0</td>\n",
              "      <td>0</td>\n",
              "      <td>0</td>\n",
              "      <td>0</td>\n",
              "      <td>0</td>\n",
              "      <td>Mild</td>\n",
              "    </tr>\n",
              "    <tr>\n",
              "      <th>8</th>\n",
              "      <td>6061020104</td>\n",
              "      <td>841</td>\n",
              "      <td>Placer</td>\n",
              "      <td>96145</td>\n",
              "      <td>Unincorporated Placer County area</td>\n",
              "      <td>4.21</td>\n",
              "      <td>2.85</td>\n",
              "      <td>15.89</td>\n",
              "      <td>NaN</td>\n",
              "      <td>6.44</td>\n",
              "      <td>...</td>\n",
              "      <td>3.33</td>\n",
              "      <td>0</td>\n",
              "      <td>0</td>\n",
              "      <td>0</td>\n",
              "      <td>0</td>\n",
              "      <td>0</td>\n",
              "      <td>0</td>\n",
              "      <td>0</td>\n",
              "      <td>0</td>\n",
              "      <td>Mild</td>\n",
              "    </tr>\n",
              "    <tr>\n",
              "      <th>9</th>\n",
              "      <td>6059042326</td>\n",
              "      <td>4781</td>\n",
              "      <td>Orange</td>\n",
              "      <td>92677</td>\n",
              "      <td>Laguna Niguel</td>\n",
              "      <td>5.23</td>\n",
              "      <td>3.32</td>\n",
              "      <td>19.29</td>\n",
              "      <td>3.48</td>\n",
              "      <td>9.11</td>\n",
              "      <td>...</td>\n",
              "      <td>9.60</td>\n",
              "      <td>1</td>\n",
              "      <td>0</td>\n",
              "      <td>0</td>\n",
              "      <td>0</td>\n",
              "      <td>0</td>\n",
              "      <td>0</td>\n",
              "      <td>0</td>\n",
              "      <td>0</td>\n",
              "      <td>Mild</td>\n",
              "    </tr>\n",
              "  </tbody>\n",
              "</table>\n",
              "<p>10 rows × 37 columns</p>\n",
              "</div>\n",
              "      <button class=\"colab-df-convert\" onclick=\"convertToInteractive('df-f0c98ed2-1c09-4f26-b4c1-23c5f207bd99')\"\n",
              "              title=\"Convert this dataframe to an interactive table.\"\n",
              "              style=\"display:none;\">\n",
              "        \n",
              "  <svg xmlns=\"http://www.w3.org/2000/svg\" height=\"24px\"viewBox=\"0 0 24 24\"\n",
              "       width=\"24px\">\n",
              "    <path d=\"M0 0h24v24H0V0z\" fill=\"none\"/>\n",
              "    <path d=\"M18.56 5.44l.94 2.06.94-2.06 2.06-.94-2.06-.94-.94-2.06-.94 2.06-2.06.94zm-11 1L8.5 8.5l.94-2.06 2.06-.94-2.06-.94L8.5 2.5l-.94 2.06-2.06.94zm10 10l.94 2.06.94-2.06 2.06-.94-2.06-.94-.94-2.06-.94 2.06-2.06.94z\"/><path d=\"M17.41 7.96l-1.37-1.37c-.4-.4-.92-.59-1.43-.59-.52 0-1.04.2-1.43.59L10.3 9.45l-7.72 7.72c-.78.78-.78 2.05 0 2.83L4 21.41c.39.39.9.59 1.41.59.51 0 1.02-.2 1.41-.59l7.78-7.78 2.81-2.81c.8-.78.8-2.07 0-2.86zM5.41 20L4 18.59l7.72-7.72 1.47 1.35L5.41 20z\"/>\n",
              "  </svg>\n",
              "      </button>\n",
              "      \n",
              "  <style>\n",
              "    .colab-df-container {\n",
              "      display:flex;\n",
              "      flex-wrap:wrap;\n",
              "      gap: 12px;\n",
              "    }\n",
              "\n",
              "    .colab-df-convert {\n",
              "      background-color: #E8F0FE;\n",
              "      border: none;\n",
              "      border-radius: 50%;\n",
              "      cursor: pointer;\n",
              "      display: none;\n",
              "      fill: #1967D2;\n",
              "      height: 32px;\n",
              "      padding: 0 0 0 0;\n",
              "      width: 32px;\n",
              "    }\n",
              "\n",
              "    .colab-df-convert:hover {\n",
              "      background-color: #E2EBFA;\n",
              "      box-shadow: 0px 1px 2px rgba(60, 64, 67, 0.3), 0px 1px 3px 1px rgba(60, 64, 67, 0.15);\n",
              "      fill: #174EA6;\n",
              "    }\n",
              "\n",
              "    [theme=dark] .colab-df-convert {\n",
              "      background-color: #3B4455;\n",
              "      fill: #D2E3FC;\n",
              "    }\n",
              "\n",
              "    [theme=dark] .colab-df-convert:hover {\n",
              "      background-color: #434B5C;\n",
              "      box-shadow: 0px 1px 3px 1px rgba(0, 0, 0, 0.15);\n",
              "      filter: drop-shadow(0px 1px 2px rgba(0, 0, 0, 0.3));\n",
              "      fill: #FFFFFF;\n",
              "    }\n",
              "  </style>\n",
              "\n",
              "      <script>\n",
              "        const buttonEl =\n",
              "          document.querySelector('#df-f0c98ed2-1c09-4f26-b4c1-23c5f207bd99 button.colab-df-convert');\n",
              "        buttonEl.style.display =\n",
              "          google.colab.kernel.accessAllowed ? 'block' : 'none';\n",
              "\n",
              "        async function convertToInteractive(key) {\n",
              "          const element = document.querySelector('#df-f0c98ed2-1c09-4f26-b4c1-23c5f207bd99');\n",
              "          const dataTable =\n",
              "            await google.colab.kernel.invokeFunction('convertToInteractive',\n",
              "                                                     [key], {});\n",
              "          if (!dataTable) return;\n",
              "\n",
              "          const docLinkHtml = 'Like what you see? Visit the ' +\n",
              "            '<a target=\"_blank\" href=https://colab.research.google.com/notebooks/data_table.ipynb>data table notebook</a>'\n",
              "            + ' to learn more about interactive tables.';\n",
              "          element.innerHTML = '';\n",
              "          dataTable['output_type'] = 'display_data';\n",
              "          await google.colab.output.renderOutput(dataTable, element);\n",
              "          const docLink = document.createElement('div');\n",
              "          docLink.innerHTML = docLinkHtml;\n",
              "          element.appendChild(docLink);\n",
              "        }\n",
              "      </script>\n",
              "    </div>\n",
              "  </div>\n",
              "  "
            ]
          },
          "metadata": {},
          "execution_count": 4
        }
      ]
    },
    {
      "cell_type": "code",
      "source": [
        "cvd.tail(10)"
      ],
      "metadata": {
        "colab": {
          "base_uri": "https://localhost:8080/",
          "height": 682
        },
        "id": "wQcEup7kGJPM",
        "outputId": "aa886021-99ce-4580-9f8a-53251065dd02"
      },
      "execution_count": 5,
      "outputs": [
        {
          "output_type": "execute_result",
          "data": {
            "text/plain": [
              "      Census Tract  Total Population California County    ZIP  \\\n",
              "8013    6075980200               312     San Francisco  94121   \n",
              "8014    6075980300                63     San Francisco  94122   \n",
              "8015    6079011400              3075   San Luis Obispo  93405   \n",
              "8016    6083002604              2879     Santa Barbara  93436   \n",
              "8017    6083980000                 0     Santa Barbara  93117   \n",
              "8018    6085504417               269       Santa Clara  95035   \n",
              "8019    6095253000              6720           Solano   95687   \n",
              "8020    6095980000                 0           Solano   94535   \n",
              "8021    6109985202              2509         Tuolumne   95327   \n",
              "8022    6111980000               118          Ventura      61   \n",
              "\n",
              "                            Approximate Location  CES 4.0 Score  \\\n",
              "8013                               San Francisco            NaN   \n",
              "8014                               San Francisco            NaN   \n",
              "8015  Unincorporated San Luis Obispo County area            NaN   \n",
              "8016                                      Lompoc            NaN   \n",
              "8017                               Santa Barbara            NaN   \n",
              "8018                                    Milpitas            NaN   \n",
              "8019                                   Vacaville            NaN   \n",
              "8020                                   Fairfield            NaN   \n",
              "8021         Unincorporated Tuolumne County area            NaN   \n",
              "8022          Unincorporated Ventura County area            NaN   \n",
              "\n",
              "      Pollution Burden Score  Asthma  Low Birth Weight  \\\n",
              "8013                    4.14   30.08               NaN   \n",
              "8014                    4.75   16.73               NaN   \n",
              "8015                    3.85   17.70               NaN   \n",
              "8016                    4.85   47.20               NaN   \n",
              "8017                    3.91   30.54               NaN   \n",
              "8018                    1.73   22.39               NaN   \n",
              "8019                    3.65   77.03               NaN   \n",
              "8020                    3.29   31.15               NaN   \n",
              "8021                    3.22   68.79               NaN   \n",
              "8022                    0.99   62.54               NaN   \n",
              "\n",
              "      Cardiovascular Disease  ...  Other/Multiple (%)  Urban  \\\n",
              "8013                    9.45  ...                0.00      1   \n",
              "8014                    4.65  ...                0.00      1   \n",
              "8015                    5.92  ...                4.72      1   \n",
              "8016                   15.10  ...                2.15      1   \n",
              "8017                   11.30  ...                 NaN      1   \n",
              "8018                    8.40  ...                0.00      0   \n",
              "8019                   15.20  ...                2.80      1   \n",
              "8020                    7.80  ...                 NaN      1   \n",
              "8021                   22.80  ...                4.86      0   \n",
              "8022                   15.20  ...                3.39      0   \n",
              "\n",
              "      LILATracts_1And10  LILATracts_halfAnd10  LILATracts_1And20  \\\n",
              "8013                  0                     0                  0   \n",
              "8014                  0                     0                  0   \n",
              "8015                  0                     0                  0   \n",
              "8016                  0                     0                  0   \n",
              "8017                  0                     0                  0   \n",
              "8018                  0                     0                  0   \n",
              "8019                  0                     0                  0   \n",
              "8020                  0                     0                  0   \n",
              "8021                  0                     0                  0   \n",
              "8022                  0                     0                  0   \n",
              "\n",
              "      LILATracts_Vehicle  HUNVFlag  LowIncomeTracts  LATractsVehicle_20  \\\n",
              "8013                   0         0                0                   0   \n",
              "8014                   0         0                0                   0   \n",
              "8015                   0         0                0                   0   \n",
              "8016                   0         0                0                   0   \n",
              "8017                   0         0                0                   0   \n",
              "8018                   0         0                0                   0   \n",
              "8019                   0         0                0                   0   \n",
              "8020                   0         0                0                   0   \n",
              "8021                   0         0                0                   0   \n",
              "8022                   0         0                0                   1   \n",
              "\n",
              "      CVD Risk Level  \n",
              "8013            Mild  \n",
              "8014            Mild  \n",
              "8015            Mild  \n",
              "8016            High  \n",
              "8017        Moderate  \n",
              "8018            Mild  \n",
              "8019            High  \n",
              "8020            Mild  \n",
              "8021       Very High  \n",
              "8022            High  \n",
              "\n",
              "[10 rows x 37 columns]"
            ],
            "text/html": [
              "\n",
              "  <div id=\"df-c103b5d6-c7db-41e1-92ab-7a748f29036f\">\n",
              "    <div class=\"colab-df-container\">\n",
              "      <div>\n",
              "<style scoped>\n",
              "    .dataframe tbody tr th:only-of-type {\n",
              "        vertical-align: middle;\n",
              "    }\n",
              "\n",
              "    .dataframe tbody tr th {\n",
              "        vertical-align: top;\n",
              "    }\n",
              "\n",
              "    .dataframe thead th {\n",
              "        text-align: right;\n",
              "    }\n",
              "</style>\n",
              "<table border=\"1\" class=\"dataframe\">\n",
              "  <thead>\n",
              "    <tr style=\"text-align: right;\">\n",
              "      <th></th>\n",
              "      <th>Census Tract</th>\n",
              "      <th>Total Population</th>\n",
              "      <th>California County</th>\n",
              "      <th>ZIP</th>\n",
              "      <th>Approximate Location</th>\n",
              "      <th>CES 4.0 Score</th>\n",
              "      <th>Pollution Burden Score</th>\n",
              "      <th>Asthma</th>\n",
              "      <th>Low Birth Weight</th>\n",
              "      <th>Cardiovascular Disease</th>\n",
              "      <th>...</th>\n",
              "      <th>Other/Multiple (%)</th>\n",
              "      <th>Urban</th>\n",
              "      <th>LILATracts_1And10</th>\n",
              "      <th>LILATracts_halfAnd10</th>\n",
              "      <th>LILATracts_1And20</th>\n",
              "      <th>LILATracts_Vehicle</th>\n",
              "      <th>HUNVFlag</th>\n",
              "      <th>LowIncomeTracts</th>\n",
              "      <th>LATractsVehicle_20</th>\n",
              "      <th>CVD Risk Level</th>\n",
              "    </tr>\n",
              "  </thead>\n",
              "  <tbody>\n",
              "    <tr>\n",
              "      <th>8013</th>\n",
              "      <td>6075980200</td>\n",
              "      <td>312</td>\n",
              "      <td>San Francisco</td>\n",
              "      <td>94121</td>\n",
              "      <td>San Francisco</td>\n",
              "      <td>NaN</td>\n",
              "      <td>4.14</td>\n",
              "      <td>30.08</td>\n",
              "      <td>NaN</td>\n",
              "      <td>9.45</td>\n",
              "      <td>...</td>\n",
              "      <td>0.00</td>\n",
              "      <td>1</td>\n",
              "      <td>0</td>\n",
              "      <td>0</td>\n",
              "      <td>0</td>\n",
              "      <td>0</td>\n",
              "      <td>0</td>\n",
              "      <td>0</td>\n",
              "      <td>0</td>\n",
              "      <td>Mild</td>\n",
              "    </tr>\n",
              "    <tr>\n",
              "      <th>8014</th>\n",
              "      <td>6075980300</td>\n",
              "      <td>63</td>\n",
              "      <td>San Francisco</td>\n",
              "      <td>94122</td>\n",
              "      <td>San Francisco</td>\n",
              "      <td>NaN</td>\n",
              "      <td>4.75</td>\n",
              "      <td>16.73</td>\n",
              "      <td>NaN</td>\n",
              "      <td>4.65</td>\n",
              "      <td>...</td>\n",
              "      <td>0.00</td>\n",
              "      <td>1</td>\n",
              "      <td>0</td>\n",
              "      <td>0</td>\n",
              "      <td>0</td>\n",
              "      <td>0</td>\n",
              "      <td>0</td>\n",
              "      <td>0</td>\n",
              "      <td>0</td>\n",
              "      <td>Mild</td>\n",
              "    </tr>\n",
              "    <tr>\n",
              "      <th>8015</th>\n",
              "      <td>6079011400</td>\n",
              "      <td>3075</td>\n",
              "      <td>San Luis Obispo</td>\n",
              "      <td>93405</td>\n",
              "      <td>Unincorporated San Luis Obispo County area</td>\n",
              "      <td>NaN</td>\n",
              "      <td>3.85</td>\n",
              "      <td>17.70</td>\n",
              "      <td>NaN</td>\n",
              "      <td>5.92</td>\n",
              "      <td>...</td>\n",
              "      <td>4.72</td>\n",
              "      <td>1</td>\n",
              "      <td>0</td>\n",
              "      <td>0</td>\n",
              "      <td>0</td>\n",
              "      <td>0</td>\n",
              "      <td>0</td>\n",
              "      <td>0</td>\n",
              "      <td>0</td>\n",
              "      <td>Mild</td>\n",
              "    </tr>\n",
              "    <tr>\n",
              "      <th>8016</th>\n",
              "      <td>6083002604</td>\n",
              "      <td>2879</td>\n",
              "      <td>Santa Barbara</td>\n",
              "      <td>93436</td>\n",
              "      <td>Lompoc</td>\n",
              "      <td>NaN</td>\n",
              "      <td>4.85</td>\n",
              "      <td>47.20</td>\n",
              "      <td>NaN</td>\n",
              "      <td>15.10</td>\n",
              "      <td>...</td>\n",
              "      <td>2.15</td>\n",
              "      <td>1</td>\n",
              "      <td>0</td>\n",
              "      <td>0</td>\n",
              "      <td>0</td>\n",
              "      <td>0</td>\n",
              "      <td>0</td>\n",
              "      <td>0</td>\n",
              "      <td>0</td>\n",
              "      <td>High</td>\n",
              "    </tr>\n",
              "    <tr>\n",
              "      <th>8017</th>\n",
              "      <td>6083980000</td>\n",
              "      <td>0</td>\n",
              "      <td>Santa Barbara</td>\n",
              "      <td>93117</td>\n",
              "      <td>Santa Barbara</td>\n",
              "      <td>NaN</td>\n",
              "      <td>3.91</td>\n",
              "      <td>30.54</td>\n",
              "      <td>NaN</td>\n",
              "      <td>11.30</td>\n",
              "      <td>...</td>\n",
              "      <td>NaN</td>\n",
              "      <td>1</td>\n",
              "      <td>0</td>\n",
              "      <td>0</td>\n",
              "      <td>0</td>\n",
              "      <td>0</td>\n",
              "      <td>0</td>\n",
              "      <td>0</td>\n",
              "      <td>0</td>\n",
              "      <td>Moderate</td>\n",
              "    </tr>\n",
              "    <tr>\n",
              "      <th>8018</th>\n",
              "      <td>6085504417</td>\n",
              "      <td>269</td>\n",
              "      <td>Santa Clara</td>\n",
              "      <td>95035</td>\n",
              "      <td>Milpitas</td>\n",
              "      <td>NaN</td>\n",
              "      <td>1.73</td>\n",
              "      <td>22.39</td>\n",
              "      <td>NaN</td>\n",
              "      <td>8.40</td>\n",
              "      <td>...</td>\n",
              "      <td>0.00</td>\n",
              "      <td>0</td>\n",
              "      <td>0</td>\n",
              "      <td>0</td>\n",
              "      <td>0</td>\n",
              "      <td>0</td>\n",
              "      <td>0</td>\n",
              "      <td>0</td>\n",
              "      <td>0</td>\n",
              "      <td>Mild</td>\n",
              "    </tr>\n",
              "    <tr>\n",
              "      <th>8019</th>\n",
              "      <td>6095253000</td>\n",
              "      <td>6720</td>\n",
              "      <td>Solano</td>\n",
              "      <td>95687</td>\n",
              "      <td>Vacaville</td>\n",
              "      <td>NaN</td>\n",
              "      <td>3.65</td>\n",
              "      <td>77.03</td>\n",
              "      <td>NaN</td>\n",
              "      <td>15.20</td>\n",
              "      <td>...</td>\n",
              "      <td>2.80</td>\n",
              "      <td>1</td>\n",
              "      <td>0</td>\n",
              "      <td>0</td>\n",
              "      <td>0</td>\n",
              "      <td>0</td>\n",
              "      <td>0</td>\n",
              "      <td>0</td>\n",
              "      <td>0</td>\n",
              "      <td>High</td>\n",
              "    </tr>\n",
              "    <tr>\n",
              "      <th>8020</th>\n",
              "      <td>6095980000</td>\n",
              "      <td>0</td>\n",
              "      <td>Solano</td>\n",
              "      <td>94535</td>\n",
              "      <td>Fairfield</td>\n",
              "      <td>NaN</td>\n",
              "      <td>3.29</td>\n",
              "      <td>31.15</td>\n",
              "      <td>NaN</td>\n",
              "      <td>7.80</td>\n",
              "      <td>...</td>\n",
              "      <td>NaN</td>\n",
              "      <td>1</td>\n",
              "      <td>0</td>\n",
              "      <td>0</td>\n",
              "      <td>0</td>\n",
              "      <td>0</td>\n",
              "      <td>0</td>\n",
              "      <td>0</td>\n",
              "      <td>0</td>\n",
              "      <td>Mild</td>\n",
              "    </tr>\n",
              "    <tr>\n",
              "      <th>8021</th>\n",
              "      <td>6109985202</td>\n",
              "      <td>2509</td>\n",
              "      <td>Tuolumne</td>\n",
              "      <td>95327</td>\n",
              "      <td>Unincorporated Tuolumne County area</td>\n",
              "      <td>NaN</td>\n",
              "      <td>3.22</td>\n",
              "      <td>68.79</td>\n",
              "      <td>NaN</td>\n",
              "      <td>22.80</td>\n",
              "      <td>...</td>\n",
              "      <td>4.86</td>\n",
              "      <td>0</td>\n",
              "      <td>0</td>\n",
              "      <td>0</td>\n",
              "      <td>0</td>\n",
              "      <td>0</td>\n",
              "      <td>0</td>\n",
              "      <td>0</td>\n",
              "      <td>0</td>\n",
              "      <td>Very High</td>\n",
              "    </tr>\n",
              "    <tr>\n",
              "      <th>8022</th>\n",
              "      <td>6111980000</td>\n",
              "      <td>118</td>\n",
              "      <td>Ventura</td>\n",
              "      <td>61</td>\n",
              "      <td>Unincorporated Ventura County area</td>\n",
              "      <td>NaN</td>\n",
              "      <td>0.99</td>\n",
              "      <td>62.54</td>\n",
              "      <td>NaN</td>\n",
              "      <td>15.20</td>\n",
              "      <td>...</td>\n",
              "      <td>3.39</td>\n",
              "      <td>0</td>\n",
              "      <td>0</td>\n",
              "      <td>0</td>\n",
              "      <td>0</td>\n",
              "      <td>0</td>\n",
              "      <td>0</td>\n",
              "      <td>0</td>\n",
              "      <td>1</td>\n",
              "      <td>High</td>\n",
              "    </tr>\n",
              "  </tbody>\n",
              "</table>\n",
              "<p>10 rows × 37 columns</p>\n",
              "</div>\n",
              "      <button class=\"colab-df-convert\" onclick=\"convertToInteractive('df-c103b5d6-c7db-41e1-92ab-7a748f29036f')\"\n",
              "              title=\"Convert this dataframe to an interactive table.\"\n",
              "              style=\"display:none;\">\n",
              "        \n",
              "  <svg xmlns=\"http://www.w3.org/2000/svg\" height=\"24px\"viewBox=\"0 0 24 24\"\n",
              "       width=\"24px\">\n",
              "    <path d=\"M0 0h24v24H0V0z\" fill=\"none\"/>\n",
              "    <path d=\"M18.56 5.44l.94 2.06.94-2.06 2.06-.94-2.06-.94-.94-2.06-.94 2.06-2.06.94zm-11 1L8.5 8.5l.94-2.06 2.06-.94-2.06-.94L8.5 2.5l-.94 2.06-2.06.94zm10 10l.94 2.06.94-2.06 2.06-.94-2.06-.94-.94-2.06-.94 2.06-2.06.94z\"/><path d=\"M17.41 7.96l-1.37-1.37c-.4-.4-.92-.59-1.43-.59-.52 0-1.04.2-1.43.59L10.3 9.45l-7.72 7.72c-.78.78-.78 2.05 0 2.83L4 21.41c.39.39.9.59 1.41.59.51 0 1.02-.2 1.41-.59l7.78-7.78 2.81-2.81c.8-.78.8-2.07 0-2.86zM5.41 20L4 18.59l7.72-7.72 1.47 1.35L5.41 20z\"/>\n",
              "  </svg>\n",
              "      </button>\n",
              "      \n",
              "  <style>\n",
              "    .colab-df-container {\n",
              "      display:flex;\n",
              "      flex-wrap:wrap;\n",
              "      gap: 12px;\n",
              "    }\n",
              "\n",
              "    .colab-df-convert {\n",
              "      background-color: #E8F0FE;\n",
              "      border: none;\n",
              "      border-radius: 50%;\n",
              "      cursor: pointer;\n",
              "      display: none;\n",
              "      fill: #1967D2;\n",
              "      height: 32px;\n",
              "      padding: 0 0 0 0;\n",
              "      width: 32px;\n",
              "    }\n",
              "\n",
              "    .colab-df-convert:hover {\n",
              "      background-color: #E2EBFA;\n",
              "      box-shadow: 0px 1px 2px rgba(60, 64, 67, 0.3), 0px 1px 3px 1px rgba(60, 64, 67, 0.15);\n",
              "      fill: #174EA6;\n",
              "    }\n",
              "\n",
              "    [theme=dark] .colab-df-convert {\n",
              "      background-color: #3B4455;\n",
              "      fill: #D2E3FC;\n",
              "    }\n",
              "\n",
              "    [theme=dark] .colab-df-convert:hover {\n",
              "      background-color: #434B5C;\n",
              "      box-shadow: 0px 1px 3px 1px rgba(0, 0, 0, 0.15);\n",
              "      filter: drop-shadow(0px 1px 2px rgba(0, 0, 0, 0.3));\n",
              "      fill: #FFFFFF;\n",
              "    }\n",
              "  </style>\n",
              "\n",
              "      <script>\n",
              "        const buttonEl =\n",
              "          document.querySelector('#df-c103b5d6-c7db-41e1-92ab-7a748f29036f button.colab-df-convert');\n",
              "        buttonEl.style.display =\n",
              "          google.colab.kernel.accessAllowed ? 'block' : 'none';\n",
              "\n",
              "        async function convertToInteractive(key) {\n",
              "          const element = document.querySelector('#df-c103b5d6-c7db-41e1-92ab-7a748f29036f');\n",
              "          const dataTable =\n",
              "            await google.colab.kernel.invokeFunction('convertToInteractive',\n",
              "                                                     [key], {});\n",
              "          if (!dataTable) return;\n",
              "\n",
              "          const docLinkHtml = 'Like what you see? Visit the ' +\n",
              "            '<a target=\"_blank\" href=https://colab.research.google.com/notebooks/data_table.ipynb>data table notebook</a>'\n",
              "            + ' to learn more about interactive tables.';\n",
              "          element.innerHTML = '';\n",
              "          dataTable['output_type'] = 'display_data';\n",
              "          await google.colab.output.renderOutput(dataTable, element);\n",
              "          const docLink = document.createElement('div');\n",
              "          docLink.innerHTML = docLinkHtml;\n",
              "          element.appendChild(docLink);\n",
              "        }\n",
              "      </script>\n",
              "    </div>\n",
              "  </div>\n",
              "  "
            ]
          },
          "metadata": {},
          "execution_count": 5
        }
      ]
    },
    {
      "cell_type": "code",
      "source": [
        "cvd.describe"
      ],
      "metadata": {
        "colab": {
          "base_uri": "https://localhost:8080/"
        },
        "id": "HdkdtwT7GP_K",
        "outputId": "b6c597e1-51ab-448f-d7be-1cc1f04a6bc7"
      },
      "execution_count": 6,
      "outputs": [
        {
          "output_type": "execute_result",
          "data": {
            "text/plain": [
              "<bound method NDFrame.describe of       Census Tract  Total Population California County    ZIP  \\\n",
              "0       6083000103              3433     Santa Barbara  93105   \n",
              "1       6083001500              2526     Santa Barbara  93108   \n",
              "2       6037262301              2748       Los Angeles  90049   \n",
              "3       6073008501              5969         San Diego  92117   \n",
              "4       6057001204              2273           Nevada   96161   \n",
              "...            ...               ...               ...    ...   \n",
              "8018    6085504417               269       Santa Clara  95035   \n",
              "8019    6095253000              6720           Solano   95687   \n",
              "8020    6095980000                 0           Solano   94535   \n",
              "8021    6109985202              2509         Tuolumne   95327   \n",
              "8022    6111980000               118          Ventura      61   \n",
              "\n",
              "                          Approximate Location  CES 4.0 Score  \\\n",
              "0     Unincorporated Santa Barbara County area           2.76   \n",
              "1     Unincorporated Santa Barbara County area           2.46   \n",
              "2                                  Los Angeles           6.51   \n",
              "3                                    San Diego           5.22   \n",
              "4            Unincorporated Nevada County area           4.00   \n",
              "...                                        ...            ...   \n",
              "8018                                  Milpitas            NaN   \n",
              "8019                                 Vacaville            NaN   \n",
              "8020                                 Fairfield            NaN   \n",
              "8021       Unincorporated Tuolumne County area            NaN   \n",
              "8022        Unincorporated Ventura County area            NaN   \n",
              "\n",
              "      Pollution Burden Score  Asthma  Low Birth Weight  \\\n",
              "0                       3.40   17.89              1.56   \n",
              "1                       2.48   11.87              0.00   \n",
              "2                       5.67   11.25              3.16   \n",
              "3                       4.21   22.74              2.49   \n",
              "4                       3.22   27.02              3.92   \n",
              "...                      ...     ...               ...   \n",
              "8018                    1.73   22.39               NaN   \n",
              "8019                    3.65   77.03               NaN   \n",
              "8020                    3.29   31.15               NaN   \n",
              "8021                    3.22   68.79               NaN   \n",
              "8022                    0.99   62.54               NaN   \n",
              "\n",
              "      Cardiovascular Disease  ...  Other/Multiple (%)  Urban  \\\n",
              "0                       4.48  ...                4.05      0   \n",
              "1                       5.76  ...                0.99      1   \n",
              "2                       6.47  ...                1.64      1   \n",
              "3                       6.19  ...                5.98      1   \n",
              "4                       5.46  ...                2.51      0   \n",
              "...                      ...  ...                 ...    ...   \n",
              "8018                    8.40  ...                0.00      0   \n",
              "8019                   15.20  ...                2.80      1   \n",
              "8020                    7.80  ...                 NaN      1   \n",
              "8021                   22.80  ...                4.86      0   \n",
              "8022                   15.20  ...                3.39      0   \n",
              "\n",
              "      LILATracts_1And10  LILATracts_halfAnd10  LILATracts_1And20  \\\n",
              "0                     0                     0                  0   \n",
              "1                     0                     0                  0   \n",
              "2                     0                     0                  0   \n",
              "3                     0                     0                  0   \n",
              "4                     0                     0                  0   \n",
              "...                 ...                   ...                ...   \n",
              "8018                  0                     0                  0   \n",
              "8019                  0                     0                  0   \n",
              "8020                  0                     0                  0   \n",
              "8021                  0                     0                  0   \n",
              "8022                  0                     0                  0   \n",
              "\n",
              "      LILATracts_Vehicle  HUNVFlag  LowIncomeTracts  LATractsVehicle_20  \\\n",
              "0                      0         0                0                   0   \n",
              "1                      0         0                0                   0   \n",
              "2                      0         0                0                   0   \n",
              "3                      0         0                0                   0   \n",
              "4                      0         0                0                   0   \n",
              "...                  ...       ...              ...                 ...   \n",
              "8018                   0         0                0                   0   \n",
              "8019                   0         0                0                   0   \n",
              "8020                   0         0                0                   0   \n",
              "8021                   0         0                0                   0   \n",
              "8022                   0         0                0                   1   \n",
              "\n",
              "      CVD Risk Level  \n",
              "0               Mild  \n",
              "1               Mild  \n",
              "2               Mild  \n",
              "3               Mild  \n",
              "4               Mild  \n",
              "...              ...  \n",
              "8018            Mild  \n",
              "8019            High  \n",
              "8020            Mild  \n",
              "8021       Very High  \n",
              "8022            High  \n",
              "\n",
              "[8023 rows x 37 columns]>"
            ]
          },
          "metadata": {},
          "execution_count": 6
        }
      ]
    },
    {
      "cell_type": "code",
      "source": [
        "cvd.info()"
      ],
      "metadata": {
        "colab": {
          "base_uri": "https://localhost:8080/"
        },
        "id": "gfSlEu_dGSY_",
        "outputId": "35b44101-a229-413c-bfe0-d42d32ba6bcf"
      },
      "execution_count": 7,
      "outputs": [
        {
          "output_type": "stream",
          "name": "stdout",
          "text": [
            "<class 'pandas.core.frame.DataFrame'>\n",
            "RangeIndex: 8023 entries, 0 to 8022\n",
            "Data columns (total 37 columns):\n",
            " #   Column                   Non-Null Count  Dtype  \n",
            "---  ------                   --------------  -----  \n",
            " 0   Census Tract             8023 non-null   int64  \n",
            " 1   Total Population         8023 non-null   int64  \n",
            " 2   California County        8023 non-null   object \n",
            " 3   ZIP                      8023 non-null   int64  \n",
            " 4   Approximate Location     8023 non-null   object \n",
            " 5   CES 4.0 Score            7931 non-null   float64\n",
            " 6   Pollution Burden Score   8023 non-null   float64\n",
            " 7   Asthma                   8023 non-null   float64\n",
            " 8   Low Birth Weight         7807 non-null   float64\n",
            " 9   Cardiovascular Disease   8023 non-null   float64\n",
            " 10  Education                7931 non-null   float64\n",
            " 11  Unemployment             7700 non-null   float64\n",
            " 12  Housing Burden           7889 non-null   float64\n",
            " 13  Pop. Char. Score         7931 non-null   float64\n",
            " 14  PovertyRate              8023 non-null   float64\n",
            " 15  lapophalfshare           7142 non-null   float64\n",
            " 16  lalowihalfshare          7142 non-null   float64\n",
            " 17  lapop1share              3786 non-null   float64\n",
            " 18  lalowi1share             3786 non-null   float64\n",
            " 19  Children < 10 years (%)  8011 non-null   float64\n",
            " 20  Pop 10-64 years (%)      8011 non-null   float64\n",
            " 21  Elderly > 64 years (%)   8011 non-null   float64\n",
            " 22  Hispanic (%)             8011 non-null   float64\n",
            " 23  White (%)                8011 non-null   float64\n",
            " 24  African American (%)     8011 non-null   float64\n",
            " 25  Native American (%)      8011 non-null   float64\n",
            " 26  Asian American (%)       8011 non-null   float64\n",
            " 27  Other/Multiple (%)       8011 non-null   float64\n",
            " 28  Urban                    8023 non-null   int64  \n",
            " 29  LILATracts_1And10        8023 non-null   int64  \n",
            " 30  LILATracts_halfAnd10     8023 non-null   int64  \n",
            " 31  LILATracts_1And20        8023 non-null   int64  \n",
            " 32  LILATracts_Vehicle       8023 non-null   int64  \n",
            " 33  HUNVFlag                 8023 non-null   int64  \n",
            " 34  LowIncomeTracts          8023 non-null   int64  \n",
            " 35  LATractsVehicle_20       8023 non-null   int64  \n",
            " 36  CVD Risk Level           8023 non-null   object \n",
            "dtypes: float64(23), int64(11), object(3)\n",
            "memory usage: 2.3+ MB\n"
          ]
        }
      ]
    },
    {
      "cell_type": "code",
      "source": [
        "sns.countplot(x='CVD Risk Level', data=cvd, palette='husl')\n",
        "plt.show()"
      ],
      "metadata": {
        "colab": {
          "base_uri": "https://localhost:8080/",
          "height": 279
        },
        "id": "U-zNXmDeYJMZ",
        "outputId": "2661f81c-587e-4770-a6ec-9710768cc1d7"
      },
      "execution_count": 8,
      "outputs": [
        {
          "output_type": "display_data",
          "data": {
            "text/plain": [
              "<Figure size 432x288 with 1 Axes>"
            ],
            "image/png": "[encoded data removed]"
          },
          "metadata": {
            "needs_background": "light"
          }
        }
      ]
    },
    {
      "cell_type": "code",
      "source": [
        "cvd['CVD Risk Level'] = cvd['CVD Risk Level'].replace({'Very High': 'High'})#Combining Very High and High \n",
        "\n",
        "cvd['CVD Risk Level'] = cvd['CVD Risk Level'].replace({'Moderate': 'Mild'})#Combining Moderate and Mild"
      ],
      "metadata": {
        "id": "woRAamrjffZC"
      },
      "execution_count": 9,
      "outputs": []
    },
    {
      "cell_type": "code",
      "source": [
        "cvd['CVD Risk Level'] = cvd['CVD Risk Level'].replace({'High': 'At risk'})#Creating At risk group\n",
        "\n",
        "cvd['CVD Risk Level'] = cvd['CVD Risk Level'].replace({'Mild': 'Mild risk'})#Creating Mild risk group"
      ],
      "metadata": {
        "id": "NJH8G5f8jGlA"
      },
      "execution_count": 10,
      "outputs": []
    },
    {
      "cell_type": "code",
      "source": [
        "cvd['CVD Risk Level'].value_counts()"
      ],
      "metadata": {
        "colab": {
          "base_uri": "https://localhost:8080/"
        },
        "id": "QxadgIoNgtU8",
        "outputId": "3b69477d-50c6-4cfd-9f62-d6e43b068e2d"
      },
      "execution_count": 11,
      "outputs": [
        {
          "output_type": "execute_result",
          "data": {
            "text/plain": [
              "Mild risk    4041\n",
              "At risk      3982\n",
              "Name: CVD Risk Level, dtype: int64"
            ]
          },
          "metadata": {},
          "execution_count": 11
        }
      ]
    },
    {
      "cell_type": "code",
      "source": [
        "cvd = pd.concat([cvd, pd.get_dummies(cvd['CVD Risk Level'])], axis=1)"
      ],
      "metadata": {
        "id": "VLUT2B37omK5"
      },
      "execution_count": 12,
      "outputs": []
    },
    {
      "cell_type": "code",
      "source": [
        "cvd.head()"
      ],
      "metadata": {
        "colab": {
          "base_uri": "https://localhost:8080/",
          "height": 473
        },
        "id": "-z-Bgiq0o2or",
        "outputId": "684909d3-86c7-4408-916a-8a596643b3d0"
      },
      "execution_count": 13,
      "outputs": [
        {
          "output_type": "execute_result",
          "data": {
            "text/plain": [
              "   Census Tract  Total Population California County    ZIP  \\\n",
              "0    6083000103              3433     Santa Barbara  93105   \n",
              "1    6083001500              2526     Santa Barbara  93108   \n",
              "2    6037262301              2748       Los Angeles  90049   \n",
              "3    6073008501              5969         San Diego  92117   \n",
              "4    6057001204              2273           Nevada   96161   \n",
              "\n",
              "                       Approximate Location  CES 4.0 Score  \\\n",
              "0  Unincorporated Santa Barbara County area           2.76   \n",
              "1  Unincorporated Santa Barbara County area           2.46   \n",
              "2                               Los Angeles           6.51   \n",
              "3                                 San Diego           5.22   \n",
              "4         Unincorporated Nevada County area           4.00   \n",
              "\n",
              "   Pollution Burden Score  Asthma  Low Birth Weight  Cardiovascular Disease  \\\n",
              "0                    3.40   17.89              1.56                    4.48   \n",
              "1                    2.48   11.87              0.00                    5.76   \n",
              "2                    5.67   11.25              3.16                    6.47   \n",
              "3                    4.21   22.74              2.49                    6.19   \n",
              "4                    3.22   27.02              3.92                    5.46   \n",
              "\n",
              "   ...  LILATracts_1And10  LILATracts_halfAnd10  LILATracts_1And20  \\\n",
              "0  ...                  0                     0                  0   \n",
              "1  ...                  0                     0                  0   \n",
              "2  ...                  0                     0                  0   \n",
              "3  ...                  0                     0                  0   \n",
              "4  ...                  0                     0                  0   \n",
              "\n",
              "   LILATracts_Vehicle  HUNVFlag  LowIncomeTracts  LATractsVehicle_20  \\\n",
              "0                   0         0                0                   0   \n",
              "1                   0         0                0                   0   \n",
              "2                   0         0                0                   0   \n",
              "3                   0         0                0                   0   \n",
              "4                   0         0                0                   0   \n",
              "\n",
              "   CVD Risk Level  At risk  Mild risk  \n",
              "0       Mild risk        0          1  \n",
              "1       Mild risk        0          1  \n",
              "2       Mild risk        0          1  \n",
              "3       Mild risk        0          1  \n",
              "4       Mild risk        0          1  \n",
              "\n",
              "[5 rows x 39 columns]"
            ],
            "text/html": [
              "\n",
              "  <div id=\"df-a082cbd0-f80b-4bf5-a10c-4dd009a91fac\">\n",
              "    <div class=\"colab-df-container\">\n",
              "      <div>\n",
              "<style scoped>\n",
              "    .dataframe tbody tr th:only-of-type {\n",
              "        vertical-align: middle;\n",
              "    }\n",
              "\n",
              "    .dataframe tbody tr th {\n",
              "        vertical-align: top;\n",
              "    }\n",
              "\n",
              "    .dataframe thead th {\n",
              "        text-align: right;\n",
              "    }\n",
              "</style>\n",
              "<table border=\"1\" class=\"dataframe\">\n",
              "  <thead>\n",
              "    <tr style=\"text-align: right;\">\n",
              "      <th></th>\n",
              "      <th>Census Tract</th>\n",
              "      <th>Total Population</th>\n",
              "      <th>California County</th>\n",
              "      <th>ZIP</th>\n",
              "      <th>Approximate Location</th>\n",
              "      <th>CES 4.0 Score</th>\n",
              "      <th>Pollution Burden Score</th>\n",
              "      <th>Asthma</th>\n",
              "      <th>Low Birth Weight</th>\n",
              "      <th>Cardiovascular Disease</th>\n",
              "      <th>...</th>\n",
              "      <th>LILATracts_1And10</th>\n",
              "      <th>LILATracts_halfAnd10</th>\n",
              "      <th>LILATracts_1And20</th>\n",
              "      <th>LILATracts_Vehicle</th>\n",
              "      <th>HUNVFlag</th>\n",
              "      <th>LowIncomeTracts</th>\n",
              "      <th>LATractsVehicle_20</th>\n",
              "      <th>CVD Risk Level</th>\n",
              "      <th>At risk</th>\n",
              "      <th>Mild risk</th>\n",
              "    </tr>\n",
              "  </thead>\n",
              "  <tbody>\n",
              "    <tr>\n",
              "      <th>0</th>\n",
              "      <td>6083000103</td>\n",
              "      <td>3433</td>\n",
              "      <td>Santa Barbara</td>\n",
              "      <td>93105</td>\n",
              "      <td>Unincorporated Santa Barbara County area</td>\n",
              "      <td>2.76</td>\n",
              "      <td>3.40</td>\n",
              "      <td>17.89</td>\n",
              "      <td>1.56</td>\n",
              "      <td>4.48</td>\n",
              "      <td>...</td>\n",
              "      <td>0</td>\n",
              "      <td>0</td>\n",
              "      <td>0</td>\n",
              "      <td>0</td>\n",
              "      <td>0</td>\n",
              "      <td>0</td>\n",
              "      <td>0</td>\n",
              "      <td>Mild risk</td>\n",
              "      <td>0</td>\n",
              "      <td>1</td>\n",
              "    </tr>\n",
              "    <tr>\n",
              "      <th>1</th>\n",
              "      <td>6083001500</td>\n",
              "      <td>2526</td>\n",
              "      <td>Santa Barbara</td>\n",
              "      <td>93108</td>\n",
              "      <td>Unincorporated Santa Barbara County area</td>\n",
              "      <td>2.46</td>\n",
              "      <td>2.48</td>\n",
              "      <td>11.87</td>\n",
              "      <td>0.00</td>\n",
              "      <td>5.76</td>\n",
              "      <td>...</td>\n",
              "      <td>0</td>\n",
              "      <td>0</td>\n",
              "      <td>0</td>\n",
              "      <td>0</td>\n",
              "      <td>0</td>\n",
              "      <td>0</td>\n",
              "      <td>0</td>\n",
              "      <td>Mild risk</td>\n",
              "      <td>0</td>\n",
              "      <td>1</td>\n",
              "    </tr>\n",
              "    <tr>\n",
              "      <th>2</th>\n",
              "      <td>6037262301</td>\n",
              "      <td>2748</td>\n",
              "      <td>Los Angeles</td>\n",
              "      <td>90049</td>\n",
              "      <td>Los Angeles</td>\n",
              "      <td>6.51</td>\n",
              "      <td>5.67</td>\n",
              "      <td>11.25</td>\n",
              "      <td>3.16</td>\n",
              "      <td>6.47</td>\n",
              "      <td>...</td>\n",
              "      <td>0</td>\n",
              "      <td>0</td>\n",
              "      <td>0</td>\n",
              "      <td>0</td>\n",
              "      <td>0</td>\n",
              "      <td>0</td>\n",
              "      <td>0</td>\n",
              "      <td>Mild risk</td>\n",
              "      <td>0</td>\n",
              "      <td>1</td>\n",
              "    </tr>\n",
              "    <tr>\n",
              "      <th>3</th>\n",
              "      <td>6073008501</td>\n",
              "      <td>5969</td>\n",
              "      <td>San Diego</td>\n",
              "      <td>92117</td>\n",
              "      <td>San Diego</td>\n",
              "      <td>5.22</td>\n",
              "      <td>4.21</td>\n",
              "      <td>22.74</td>\n",
              "      <td>2.49</td>\n",
              "      <td>6.19</td>\n",
              "      <td>...</td>\n",
              "      <td>0</td>\n",
              "      <td>0</td>\n",
              "      <td>0</td>\n",
              "      <td>0</td>\n",
              "      <td>0</td>\n",
              "      <td>0</td>\n",
              "      <td>0</td>\n",
              "      <td>Mild risk</td>\n",
              "      <td>0</td>\n",
              "      <td>1</td>\n",
              "    </tr>\n",
              "    <tr>\n",
              "      <th>4</th>\n",
              "      <td>6057001204</td>\n",
              "      <td>2273</td>\n",
              "      <td>Nevada</td>\n",
              "      <td>96161</td>\n",
              "      <td>Unincorporated Nevada County area</td>\n",
              "      <td>4.00</td>\n",
              "      <td>3.22</td>\n",
              "      <td>27.02</td>\n",
              "      <td>3.92</td>\n",
              "      <td>5.46</td>\n",
              "      <td>...</td>\n",
              "      <td>0</td>\n",
              "      <td>0</td>\n",
              "      <td>0</td>\n",
              "      <td>0</td>\n",
              "      <td>0</td>\n",
              "      <td>0</td>\n",
              "      <td>0</td>\n",
              "      <td>Mild risk</td>\n",
              "      <td>0</td>\n",
              "      <td>1</td>\n",
              "    </tr>\n",
              "  </tbody>\n",
              "</table>\n",
              "<p>5 rows × 39 columns</p>\n",
              "</div>\n",
              "      <button class=\"colab-df-convert\" onclick=\"convertToInteractive('df-a082cbd0-f80b-4bf5-a10c-4dd009a91fac')\"\n",
              "              title=\"Convert this dataframe to an interactive table.\"\n",
              "              style=\"display:none;\">\n",
              "        \n",
              "  <svg xmlns=\"http://www.w3.org/2000/svg\" height=\"24px\"viewBox=\"0 0 24 24\"\n",
              "       width=\"24px\">\n",
              "    <path d=\"M0 0h24v24H0V0z\" fill=\"none\"/>\n",
              "    <path d=\"M18.56 5.44l.94 2.06.94-2.06 2.06-.94-2.06-.94-.94-2.06-.94 2.06-2.06.94zm-11 1L8.5 8.5l.94-2.06 2.06-.94-2.06-.94L8.5 2.5l-.94 2.06-2.06.94zm10 10l.94 2.06.94-2.06 2.06-.94-2.06-.94-.94-2.06-.94 2.06-2.06.94z\"/><path d=\"M17.41 7.96l-1.37-1.37c-.4-.4-.92-.59-1.43-.59-.52 0-1.04.2-1.43.59L10.3 9.45l-7.72 7.72c-.78.78-.78 2.05 0 2.83L4 21.41c.39.39.9.59 1.41.59.51 0 1.02-.2 1.41-.59l7.78-7.78 2.81-2.81c.8-.78.8-2.07 0-2.86zM5.41 20L4 18.59l7.72-7.72 1.47 1.35L5.41 20z\"/>\n",
              "  </svg>\n",
              "      </button>\n",
              "      \n",
              "  <style>\n",
              "    .colab-df-container {\n",
              "      display:flex;\n",
              "      flex-wrap:wrap;\n",
              "      gap: 12px;\n",
              "    }\n",
              "\n",
              "    .colab-df-convert {\n",
              "      background-color: #E8F0FE;\n",
              "      border: none;\n",
              "      border-radius: 50%;\n",
              "      cursor: pointer;\n",
              "      display: none;\n",
              "      fill: #1967D2;\n",
              "      height: 32px;\n",
              "      padding: 0 0 0 0;\n",
              "      width: 32px;\n",
              "    }\n",
              "\n",
              "    .colab-df-convert:hover {\n",
              "      background-color: #E2EBFA;\n",
              "      box-shadow: 0px 1px 2px rgba(60, 64, 67, 0.3), 0px 1px 3px 1px rgba(60, 64, 67, 0.15);\n",
              "      fill: #174EA6;\n",
              "    }\n",
              "\n",
              "    [theme=dark] .colab-df-convert {\n",
              "      background-color: #3B4455;\n",
              "      fill: #D2E3FC;\n",
              "    }\n",
              "\n",
              "    [theme=dark] .colab-df-convert:hover {\n",
              "      background-color: #434B5C;\n",
              "      box-shadow: 0px 1px 3px 1px rgba(0, 0, 0, 0.15);\n",
              "      filter: drop-shadow(0px 1px 2px rgba(0, 0, 0, 0.3));\n",
              "      fill: #FFFFFF;\n",
              "    }\n",
              "  </style>\n",
              "\n",
              "      <script>\n",
              "        const buttonEl =\n",
              "          document.querySelector('#df-a082cbd0-f80b-4bf5-a10c-4dd009a91fac button.colab-df-convert');\n",
              "        buttonEl.style.display =\n",
              "          google.colab.kernel.accessAllowed ? 'block' : 'none';\n",
              "\n",
              "        async function convertToInteractive(key) {\n",
              "          const element = document.querySelector('#df-a082cbd0-f80b-4bf5-a10c-4dd009a91fac');\n",
              "          const dataTable =\n",
              "            await google.colab.kernel.invokeFunction('convertToInteractive',\n",
              "                                                     [key], {});\n",
              "          if (!dataTable) return;\n",
              "\n",
              "          const docLinkHtml = 'Like what you see? Visit the ' +\n",
              "            '<a target=\"_blank\" href=https://colab.research.google.com/notebooks/data_table.ipynb>data table notebook</a>'\n",
              "            + ' to learn more about interactive tables.';\n",
              "          element.innerHTML = '';\n",
              "          dataTable['output_type'] = 'display_data';\n",
              "          await google.colab.output.renderOutput(dataTable, element);\n",
              "          const docLink = document.createElement('div');\n",
              "          docLink.innerHTML = docLinkHtml;\n",
              "          element.appendChild(docLink);\n",
              "        }\n",
              "      </script>\n",
              "    </div>\n",
              "  </div>\n",
              "  "
            ]
          },
          "metadata": {},
          "execution_count": 13
        }
      ]
    },
    {
      "cell_type": "code",
      "source": [
        "sns.countplot(x='CVD Risk Level', data=cvd, palette='husl')\n",
        "plt.show()"
      ],
      "metadata": {
        "colab": {
          "base_uri": "https://localhost:8080/",
          "height": 279
        },
        "id": "EJyv8yZ0g76b",
        "outputId": "3eea7cc1-a929-4fdd-9279-623ab75e455c"
      },
      "execution_count": 14,
      "outputs": [
        {
          "output_type": "display_data",
          "data": {
            "text/plain": [
              "<Figure size 432x288 with 1 Axes>"
            ],
            "image/png": "[encoded data removed]"
          },
          "metadata": {
            "needs_background": "light"
          }
        }
      ]
    },
    {
      "cell_type": "markdown",
      "source": [
        "## Feature Selection"
      ],
      "metadata": {
        "id": "-SagM-r8V2sD"
      }
    },
    {
      "cell_type": "code",
      "source": [
        "x = cvd[['Pollution Burden Score','Asthma','Education','Housing Burden','PovertyRate','Unemployment','LowIncomeTracts']] #Here we are storing our independent variables\n",
        "y = cvd['At risk']"
      ],
      "metadata": {
        "id": "X1exbJ7lGYAR"
      },
      "execution_count": 15,
      "outputs": []
    },
    {
      "cell_type": "code",
      "source": [
        "X_train, X_test, y_train, y_test = train_test_split(x, y, test_size=0.3, random_state = 1)#splitting between train and test setX"
      ],
      "metadata": {
        "id": "iQspDsOwKxkU"
      },
      "execution_count": 16,
      "outputs": []
    },
    {
      "cell_type": "code",
      "source": [
        "X_train.shape, X_test.shape"
      ],
      "metadata": {
        "colab": {
          "base_uri": "https://localhost:8080/"
        },
        "id": "rt4J5o-tLPot",
        "outputId": "0bdbd6cf-e1fa-4ed1-dc77-7dae7abf2d50"
      },
      "execution_count": 17,
      "outputs": [
        {
          "output_type": "execute_result",
          "data": {
            "text/plain": [
              "((5616, 7), (2407, 7))"
            ]
          },
          "metadata": {},
          "execution_count": 17
        }
      ]
    },
    {
      "cell_type": "code",
      "source": [
        "X_train.dtypes"
      ],
      "metadata": {
        "colab": {
          "base_uri": "https://localhost:8080/"
        },
        "id": "3LUGSaGULinN",
        "outputId": "74bd3ac3-bfd2-46d7-9f44-c65aefa37ac7"
      },
      "execution_count": 18,
      "outputs": [
        {
          "output_type": "execute_result",
          "data": {
            "text/plain": [
              "Pollution Burden Score    float64\n",
              "Asthma                    float64\n",
              "Education                 float64\n",
              "Housing Burden            float64\n",
              "PovertyRate               float64\n",
              "Unemployment              float64\n",
              "LowIncomeTracts             int64\n",
              "dtype: object"
            ]
          },
          "metadata": {},
          "execution_count": 18
        }
      ]
    },
    {
      "cell_type": "code",
      "source": [
        "X_test.dtypes"
      ],
      "metadata": {
        "colab": {
          "base_uri": "https://localhost:8080/"
        },
        "id": "gkTtoaduLnfK",
        "outputId": "1d6c9d2b-9d12-4c97-84cf-dd6afc1fcac6"
      },
      "execution_count": 19,
      "outputs": [
        {
          "output_type": "execute_result",
          "data": {
            "text/plain": [
              "Pollution Burden Score    float64\n",
              "Asthma                    float64\n",
              "Education                 float64\n",
              "Housing Burden            float64\n",
              "PovertyRate               float64\n",
              "Unemployment              float64\n",
              "LowIncomeTracts             int64\n",
              "dtype: object"
            ]
          },
          "metadata": {},
          "execution_count": 19
        }
      ]
    },
    {
      "cell_type": "code",
      "source": [
        "numerical = [col for col in X_train.columns if X_train[col].dtypes != 'O']\n",
        "\n",
        "numerical"
      ],
      "metadata": {
        "colab": {
          "base_uri": "https://localhost:8080/"
        },
        "id": "r_kSPW2-LqNg",
        "outputId": "7af72bdc-4974-4ba2-f049-13a0ef501522"
      },
      "execution_count": 20,
      "outputs": [
        {
          "output_type": "execute_result",
          "data": {
            "text/plain": [
              "['Pollution Burden Score',\n",
              " 'Asthma',\n",
              " 'Education',\n",
              " 'Housing Burden',\n",
              " 'PovertyRate',\n",
              " 'Unemployment',\n",
              " 'LowIncomeTracts']"
            ]
          },
          "metadata": {},
          "execution_count": 20
        }
      ]
    },
    {
      "cell_type": "code",
      "source": [
        "# check missing values in numerical variables in X_train\n",
        "\n",
        "X_train[numerical].isnull().sum()"
      ],
      "metadata": {
        "colab": {
          "base_uri": "https://localhost:8080/"
        },
        "id": "hghsNfb8LvoR",
        "outputId": "471d8c07-4a56-40ea-b7d7-5370f3e67e11"
      },
      "execution_count": 21,
      "outputs": [
        {
          "output_type": "execute_result",
          "data": {
            "text/plain": [
              "Pollution Burden Score      0\n",
              "Asthma                      0\n",
              "Education                  61\n",
              "Housing Burden             95\n",
              "PovertyRate                 0\n",
              "Unemployment              216\n",
              "LowIncomeTracts             0\n",
              "dtype: int64"
            ]
          },
          "metadata": {},
          "execution_count": 21
        }
      ]
    },
    {
      "cell_type": "code",
      "source": [
        "# impute missing values in X_train and X_test with respective column median in X_train\n",
        "\n",
        "for df1 in [X_train, X_test]:\n",
        "    for col in numerical:\n",
        "        col_median=X_train[col].median()\n",
        "        df1[col].fillna(col_median, inplace=True)  "
      ],
      "metadata": {
        "id": "8K_tMYMoLzAz"
      },
      "execution_count": 22,
      "outputs": []
    },
    {
      "cell_type": "code",
      "source": [
        "# check again missing values in numerical variables in X_train\n",
        "\n",
        "X_train[numerical].isnull().sum()"
      ],
      "metadata": {
        "colab": {
          "base_uri": "https://localhost:8080/"
        },
        "id": "XoIBMRDoL2nc",
        "outputId": "71f46120-279b-4fb9-9c1d-c66e5fa851fd"
      },
      "execution_count": 23,
      "outputs": [
        {
          "output_type": "execute_result",
          "data": {
            "text/plain": [
              "Pollution Burden Score    0\n",
              "Asthma                    0\n",
              "Education                 0\n",
              "Housing Burden            0\n",
              "PovertyRate               0\n",
              "Unemployment              0\n",
              "LowIncomeTracts           0\n",
              "dtype: int64"
            ]
          },
          "metadata": {},
          "execution_count": 23
        }
      ]
    },
    {
      "cell_type": "markdown",
      "source": [
        "## Fitting Logistic Model"
      ],
      "metadata": {
        "id": "LvxLk7ZLTIn9"
      }
    },
    {
      "cell_type": "code",
      "source": [
        "LR_model = LogisticRegression(penalty='l2',solver='liblinear',C=1,random_state=0)#Setting up the logistic model \n",
        "fit_model = LR_model.fit(X_train, y_train)#passing training and testing set through the model\n",
        "y_pred = fit_model.predict(X_test)"
      ],
      "metadata": {
        "id": "xpJncQtCMXZF"
      },
      "execution_count": 24,
      "outputs": []
    },
    {
      "cell_type": "code",
      "source": [
        "print('Accuracy Score:', metrics.accuracy_score(y_test, y_pred))  "
      ],
      "metadata": {
        "colab": {
          "base_uri": "https://localhost:8080/"
        },
        "id": "euN9p5oXNvSk",
        "outputId": "41b10797-56ba-42f8-c789-aa61d833fc3d"
      },
      "execution_count": 25,
      "outputs": [
        {
          "output_type": "stream",
          "name": "stdout",
          "text": [
            "Accuracy Score: 0.8005816368923971\n"
          ]
        }
      ]
    },
    {
      "cell_type": "markdown",
      "source": [
        "## Feature Ranking"
      ],
      "metadata": {
        "id": "oLb6IBZRWfm_"
      }
    },
    {
      "cell_type": "code",
      "source": [
        "from matplotlib import pyplot"
      ],
      "metadata": {
        "id": "yxQuQ0jBV2fa"
      },
      "execution_count": 26,
      "outputs": []
    },
    {
      "cell_type": "code",
      "source": [
        "importances = pd.DataFrame(data={\n",
        "    'Attribute': X_train.columns,\n",
        "    'Importance': LR_model.coef_[0]\n",
        "})\n",
        "importances = importances.sort_values(by='Importance', ascending=False)\n",
        "print(importances)"
      ],
      "metadata": {
        "colab": {
          "base_uri": "https://localhost:8080/"
        },
        "id": "Ox76RNg6WpVn",
        "outputId": "683b3802-49ad-4f15-9920-1705d38f9b71"
      },
      "execution_count": 27,
      "outputs": [
        {
          "output_type": "stream",
          "name": "stdout",
          "text": [
            "                Attribute  Importance\n",
            "6         LowIncomeTracts    0.099992\n",
            "5            Unemployment    0.075215\n",
            "1                  Asthma    0.067139\n",
            "2               Education    0.033171\n",
            "4             PovertyRate   -0.004434\n",
            "0  Pollution Burden Score   -0.010332\n",
            "3          Housing Burden   -0.036625\n"
          ]
        }
      ]
    },
    {
      "cell_type": "code",
      "source": [
        "plt.bar(x=importances['Attribute'], height=importances['Importance'], color='#087E8B')\n",
        "plt.title('Feature importances obtained from coefficients', size=20)\n",
        "plt.xticks(rotation='vertical')\n",
        "plt.show()"
      ],
      "metadata": {
        "colab": {
          "base_uri": "https://localhost:8080/",
          "height": 389
        },
        "id": "lGau9ASNW2sO",
        "outputId": "233a9178-4b26-479b-da87-b78e45755457"
      },
      "execution_count": 28,
      "outputs": [
        {
          "output_type": "display_data",
          "data": {
            "text/plain": [
              "<Figure size 432x288 with 1 Axes>"
            ],
            "image/png": "[encoded data removed]"
          },
          "metadata": {
            "needs_background": "light"
          }
        }
      ]
    },
    {
      "cell_type": "markdown",
      "source": [
        "## Checking AUC, F1, And ROC Curve"
      ],
      "metadata": {
        "id": "PqHKJWcEf1Ra"
      }
    },
    {
      "cell_type": "code",
      "source": [
        "auc_score = roc_auc_score(y_test, y_pred)\n",
        "auc_score"
      ],
      "metadata": {
        "colab": {
          "base_uri": "https://localhost:8080/"
        },
        "id": "ixXrW3W3f0Bq",
        "outputId": "46273704-47fd-4b2b-92d7-0dcf119c9681"
      },
      "execution_count": 29,
      "outputs": [
        {
          "output_type": "execute_result",
          "data": {
            "text/plain": [
              "0.8009382600444995"
            ]
          },
          "metadata": {},
          "execution_count": 29
        }
      ]
    },
    {
      "cell_type": "code",
      "source": [
        "F1 = f1_score(y_test, y_pred)\n",
        "F1"
      ],
      "metadata": {
        "colab": {
          "base_uri": "https://localhost:8080/"
        },
        "id": "C_FnaZ9cgvSB",
        "outputId": "b6888d62-9f3c-481c-a9b6-e6796c6c3232"
      },
      "execution_count": 30,
      "outputs": [
        {
          "output_type": "execute_result",
          "data": {
            "text/plain": [
              "0.797979797979798"
            ]
          },
          "metadata": {},
          "execution_count": 30
        }
      ]
    },
    {
      "cell_type": "code",
      "source": [
        "fpr, tpr, threshold = roc_curve(y_test, y_pred) #setting threshold for ROC curve\n",
        "AUC_score = metrics.auc(fpr, tpr)"
      ],
      "metadata": {
        "id": "oVNuEWLIpygd"
      },
      "execution_count": 31,
      "outputs": []
    },
    {
      "cell_type": "code",
      "source": [
        "ROC_curve = metrics.RocCurveDisplay(fpr = fpr, tpr = tpr, roc_auc = auc_score)#Plotting ROC curve and we can see with a score of 0.80 it looks good\n",
        "ROC_curve.plot()\n",
        "plt.show()"
      ],
      "metadata": {
        "colab": {
          "base_uri": "https://localhost:8080/",
          "height": 279
        },
        "id": "UxS-e07tp0Jb",
        "outputId": "5768993c-5b37-47de-88b3-189ea4175b16"
      },
      "execution_count": 32,
      "outputs": [
        {
          "output_type": "display_data",
          "data": {
            "text/plain": [
              "<Figure size 432x288 with 1 Axes>"
            ],
            "image/png": "[encoded data removed]"
          },
          "metadata": {
            "needs_background": "light"
          }
        }
      ]
    },
    {
      "cell_type": "markdown",
      "source": [
        "The model will be able to distinguish patients that are At Risk roughly 80% of the time!"
      ],
      "metadata": {
        "id": "c4imkgcAEUgC"
      }
    },
    {
      "cell_type": "markdown",
      "source": [
        "## Confusion Matrix"
      ],
      "metadata": {
        "id": "cfhTARFEgMFg"
      }
    },
    {
      "cell_type": "code",
      "source": [
        "# Print the Confusion Matrix and slice it into four pieces\n",
        "\n",
        "from sklearn.metrics import confusion_matrix\n",
        "\n",
        "cm = confusion_matrix(y_test, y_pred)\n",
        "\n",
        "print('Confusion matrix\\n\\n', cm)\n",
        "\n",
        "print('\\nTrue Positives(TP) = ', cm[0,0])\n",
        "\n",
        "print('\\nTrue Negatives(TN) = ', cm[1,1])\n",
        "\n",
        "print('\\nFalse Positives(FP) = ', cm[0,1])\n",
        "\n",
        "print('\\nFalse Negatives(FN) = ', cm[1,0])"
      ],
      "metadata": {
        "colab": {
          "base_uri": "https://localhost:8080/"
        },
        "id": "rDPJvV6hU9n7",
        "outputId": "9e7804f4-fd19-4494-d1bb-aee990c1f5da"
      },
      "execution_count": 33,
      "outputs": [
        {
          "output_type": "stream",
          "name": "stdout",
          "text": [
            "Confusion matrix\n",
            "\n",
            " [[979 207]\n",
            " [273 948]]\n",
            "\n",
            "True Positives(TP) =  979\n",
            "\n",
            "True Negatives(TN) =  948\n",
            "\n",
            "False Positives(FP) =  207\n",
            "\n",
            "False Negatives(FN) =  273\n"
          ]
        }
      ]
    },
    {
      "cell_type": "code",
      "source": [
        "# visualize confusion matrix with seaborn heatmap\n",
        "\n",
        "cm_matrix = pd.DataFrame(data=cm, columns=['Actual Positive:1', 'Actual Negative:0'], \n",
        "                                 index=['Predict Positive:1', 'Predict Negative:0'])\n",
        "\n",
        "sns.heatmap(cm_matrix, annot=True, fmt='d', cmap='YlGnBu')"
      ],
      "metadata": {
        "colab": {
          "base_uri": "https://localhost:8080/",
          "height": 282
        },
        "id": "Oblwb_cDVQhL",
        "outputId": "c8eaa0f7-d1f4-4f73-a4cf-08ba389d2fa9"
      },
      "execution_count": 34,
      "outputs": [
        {
          "output_type": "execute_result",
          "data": {
            "text/plain": [
              "<matplotlib.axes._subplots.AxesSubplot at 0x7fa4d95ee850>"
            ]
          },
          "metadata": {},
          "execution_count": 34
        },
        {
          "output_type": "display_data",
          "data": {
            "text/plain": [
              "<Figure size 432x288 with 2 Axes>"
            ],
            "image/png": "[encoded data removed]"
          },
          "metadata": {
            "needs_background": "light"
          }
        }
      ]
    },
    {
      "cell_type": "markdown",
      "source": [
        "We can see from the confusion matrix that our logistic model accurately predicted 979 individuals as \"At Risk\" for CVD, 948 for \"Mild Risk\". On the other hand we can see that the logistic model also falsely categorized 207 individuals as \"At Risk\" and 273 as \"Mild Risk\". "
      ],
      "metadata": {
        "id": "xavNkfdim4hJ"
      }
    },
    {
      "cell_type": "markdown",
      "source": [
        "## Classification Report"
      ],
      "metadata": {
        "id": "TIKgC-C4gP4E"
      }
    },
    {
      "cell_type": "code",
      "source": [
        "from sklearn.metrics import classification_report\n",
        "\n",
        "print(classification_report(y_test, y_pred))"
      ],
      "metadata": {
        "colab": {
          "base_uri": "https://localhost:8080/"
        },
        "id": "QNIFHaWFVZZa",
        "outputId": "afd73511-d458-429e-e50f-f469f35ca2fe"
      },
      "execution_count": 35,
      "outputs": [
        {
          "output_type": "stream",
          "name": "stdout",
          "text": [
            "              precision    recall  f1-score   support\n",
            "\n",
            "           0       0.78      0.83      0.80      1186\n",
            "           1       0.82      0.78      0.80      1221\n",
            "\n",
            "    accuracy                           0.80      2407\n",
            "   macro avg       0.80      0.80      0.80      2407\n",
            "weighted avg       0.80      0.80      0.80      2407\n",
            "\n"
          ]
        }
      ]
    },
    {
      "cell_type": "markdown",
      "source": [
        "## Specificity and Sensitivity "
      ],
      "metadata": {
        "id": "Rn8miB-5gbDS"
      }
    },
    {
      "cell_type": "code",
      "source": [
        "TP = cm[0,0]\n",
        "TN = cm[1,1]\n",
        "FP = cm[0,1]\n",
        "FN = cm[1,0]"
      ],
      "metadata": {
        "id": "CyRwWTjlVgV3"
      },
      "execution_count": 36,
      "outputs": []
    },
    {
      "cell_type": "code",
      "source": [
        "# print classification accuracy\n",
        "\n",
        "classification_accuracy = (TP + TN) / float(TP + TN + FP + FN)\n",
        "\n",
        "print('Classification accuracy : {0:0.4f}'.format(classification_accuracy))"
      ],
      "metadata": {
        "colab": {
          "base_uri": "https://localhost:8080/"
        },
        "id": "yxu5rQcEVw1B",
        "outputId": "6d938a93-ece3-45ea-c236-00d8864d0fac"
      },
      "execution_count": 37,
      "outputs": [
        {
          "output_type": "stream",
          "name": "stdout",
          "text": [
            "Classification accuracy : 0.8006\n"
          ]
        }
      ]
    },
    {
      "cell_type": "code",
      "source": [
        "# print classification error\n",
        "\n",
        "classification_error = (FP + FN) / float(TP + TN + FP + FN)\n",
        "\n",
        "print('Classification error : {0:0.4f}'.format(classification_error))"
      ],
      "metadata": {
        "colab": {
          "base_uri": "https://localhost:8080/"
        },
        "id": "g3z8t_nTVzLB",
        "outputId": "ccfd9d5b-de6f-4a84-8e31-da26de31e16d"
      },
      "execution_count": 38,
      "outputs": [
        {
          "output_type": "stream",
          "name": "stdout",
          "text": [
            "Classification error : 0.1994\n"
          ]
        }
      ]
    },
    {
      "cell_type": "code",
      "source": [
        "# print precision score\n",
        "\n",
        "precision = TP / float(TP + FP)\n",
        "\n",
        "\n",
        "print('Precision : {0:0.4f}'.format(precision))"
      ],
      "metadata": {
        "colab": {
          "base_uri": "https://localhost:8080/"
        },
        "id": "djHq0WijV1xP",
        "outputId": "bf042c5a-b124-4939-8d07-63aefeff1dea"
      },
      "execution_count": 39,
      "outputs": [
        {
          "output_type": "stream",
          "name": "stdout",
          "text": [
            "Precision : 0.8255\n"
          ]
        }
      ]
    },
    {
      "cell_type": "markdown",
      "source": [
        "The ratio of true positives to the sum of true positives and false positives, precision, is roughly 82.5% is quite good. "
      ],
      "metadata": {
        "id": "61ULDfSm-O9g"
      }
    },
    {
      "cell_type": "code",
      "source": [
        "recall = TP / float(TP + FN)\n",
        "\n",
        "print('Recall or Sensitivity : {0:0.4f}'.format(recall))"
      ],
      "metadata": {
        "colab": {
          "base_uri": "https://localhost:8080/"
        },
        "id": "jNf2G3klV5Ex",
        "outputId": "0bb2749b-4865-4781-80fa-c02380256f65"
      },
      "execution_count": 40,
      "outputs": [
        {
          "output_type": "stream",
          "name": "stdout",
          "text": [
            "Recall or Sensitivity : 0.7819\n"
          ]
        }
      ]
    },
    {
      "cell_type": "markdown",
      "source": [
        "The ratio of true positives to the sum of true positives and false negatives, sensitivity, is roughly 78.2%"
      ],
      "metadata": {
        "id": "SDrGRdyqBSfp"
      }
    },
    {
      "cell_type": "code",
      "source": [
        "true_positive_rate = TP / float(TP + FN)\n",
        "\n",
        "\n",
        "print('True Positive Rate : {0:0.4f}'.format(true_positive_rate))"
      ],
      "metadata": {
        "colab": {
          "base_uri": "https://localhost:8080/"
        },
        "id": "XcQeWM8yWL6X",
        "outputId": "d87738e8-45b0-4f22-8944-7c4ebc482b42"
      },
      "execution_count": 41,
      "outputs": [
        {
          "output_type": "stream",
          "name": "stdout",
          "text": [
            "True Positive Rate : 0.7819\n"
          ]
        }
      ]
    },
    {
      "cell_type": "code",
      "source": [
        "false_positive_rate = FP / float(FP + TN)\n",
        "\n",
        "\n",
        "print('False Positive Rate : {0:0.4f}'.format(false_positive_rate))"
      ],
      "metadata": {
        "colab": {
          "base_uri": "https://localhost:8080/"
        },
        "id": "qxtawekLWRR9",
        "outputId": "36a80709-c68a-4ed2-d4e4-03965dc2b430"
      },
      "execution_count": 42,
      "outputs": [
        {
          "output_type": "stream",
          "name": "stdout",
          "text": [
            "False Positive Rate : 0.1792\n"
          ]
        }
      ]
    },
    {
      "cell_type": "code",
      "source": [
        "specificity = TN / (TN + FP)\n",
        "\n",
        "print('Specificity : {0:0.4f}'.format(specificity))"
      ],
      "metadata": {
        "colab": {
          "base_uri": "https://localhost:8080/"
        },
        "id": "Cd5PFifgWUb1",
        "outputId": "84ea724e-d3b5-459d-8dfb-db23da66e297"
      },
      "execution_count": 43,
      "outputs": [
        {
          "output_type": "stream",
          "name": "stdout",
          "text": [
            "Specificity : 0.8208\n"
          ]
        }
      ]
    },
    {
      "cell_type": "markdown",
      "source": [
        "The ratio of true negatives to the sum of true negatives and false positives, specificity is roughly 82.1%"
      ],
      "metadata": {
        "id": "9Ox-8keAB_Uq"
      }
    },
    {
      "cell_type": "markdown",
      "source": [
        "## Predicted Probabilities "
      ],
      "metadata": {
        "id": "DHxd3BgFgizn"
      }
    },
    {
      "cell_type": "code",
      "source": [
        "# print the first 10 predicted probabilities of two classes- 0 and 1\n",
        "\n",
        "y_pred_prob = fit_model.predict_proba(X_test)[0:10]\n",
        "\n",
        "y_pred_prob"
      ],
      "metadata": {
        "colab": {
          "base_uri": "https://localhost:8080/"
        },
        "id": "7ZoFyuB9YCpp",
        "outputId": "70a021b4-cacb-4061-9ed4-b14ee25cb1a7"
      },
      "execution_count": 44,
      "outputs": [
        {
          "output_type": "execute_result",
          "data": {
            "text/plain": [
              "array([[0.48410025, 0.51589975],\n",
              "       [0.83243707, 0.16756293],\n",
              "       [0.57956954, 0.42043046],\n",
              "       [0.47558644, 0.52441356],\n",
              "       [0.76776365, 0.23223635],\n",
              "       [0.52379869, 0.47620131],\n",
              "       [0.09200997, 0.90799003],\n",
              "       [0.72727289, 0.27272711],\n",
              "       [0.09033224, 0.90966776],\n",
              "       [0.0745816 , 0.9254184 ]])"
            ]
          },
          "metadata": {},
          "execution_count": 44
        }
      ]
    },
    {
      "cell_type": "code",
      "source": [
        "# store the probabilities in dataframe\n",
        "\n",
        "y_pred_prob_df = pd.DataFrame(data=y_pred_prob, columns=['Prob of - Mild Risk of CVD (0)', 'Prob of - At Risk of CVD (1)'])\n",
        "\n",
        "y_pred_prob_df"
      ],
      "metadata": {
        "colab": {
          "base_uri": "https://localhost:8080/",
          "height": 363
        },
        "id": "rJDPaD9EZYsh",
        "outputId": "1171c138-febc-4b6a-986e-757d95161368"
      },
      "execution_count": 45,
      "outputs": [
        {
          "output_type": "execute_result",
          "data": {
            "text/plain": [
              "   Prob of - Mild Risk of CVD (0)  Prob of - At Risk of CVD (1)\n",
              "0                        0.484100                      0.515900\n",
              "1                        0.832437                      0.167563\n",
              "2                        0.579570                      0.420430\n",
              "3                        0.475586                      0.524414\n",
              "4                        0.767764                      0.232236\n",
              "5                        0.523799                      0.476201\n",
              "6                        0.092010                      0.907990\n",
              "7                        0.727273                      0.272727\n",
              "8                        0.090332                      0.909668\n",
              "9                        0.074582                      0.925418"
            ],
            "text/html": [
              "\n",
              "  <div id=\"df-99c7081f-250f-4315-a7aa-c5e03c7584b8\">\n",
              "    <div class=\"colab-df-container\">\n",
              "      <div>\n",
              "<style scoped>\n",
              "    .dataframe tbody tr th:only-of-type {\n",
              "        vertical-align: middle;\n",
              "    }\n",
              "\n",
              "    .dataframe tbody tr th {\n",
              "        vertical-align: top;\n",
              "    }\n",
              "\n",
              "    .dataframe thead th {\n",
              "        text-align: right;\n",
              "    }\n",
              "</style>\n",
              "<table border=\"1\" class=\"dataframe\">\n",
              "  <thead>\n",
              "    <tr style=\"text-align: right;\">\n",
              "      <th></th>\n",
              "      <th>Prob of - Mild Risk of CVD (0)</th>\n",
              "      <th>Prob of - At Risk of CVD (1)</th>\n",
              "    </tr>\n",
              "  </thead>\n",
              "  <tbody>\n",
              "    <tr>\n",
              "      <th>0</th>\n",
              "      <td>0.484100</td>\n",
              "      <td>0.515900</td>\n",
              "    </tr>\n",
              "    <tr>\n",
              "      <th>1</th>\n",
              "      <td>0.832437</td>\n",
              "      <td>0.167563</td>\n",
              "    </tr>\n",
              "    <tr>\n",
              "      <th>2</th>\n",
              "      <td>0.579570</td>\n",
              "      <td>0.420430</td>\n",
              "    </tr>\n",
              "    <tr>\n",
              "      <th>3</th>\n",
              "      <td>0.475586</td>\n",
              "      <td>0.524414</td>\n",
              "    </tr>\n",
              "    <tr>\n",
              "      <th>4</th>\n",
              "      <td>0.767764</td>\n",
              "      <td>0.232236</td>\n",
              "    </tr>\n",
              "    <tr>\n",
              "      <th>5</th>\n",
              "      <td>0.523799</td>\n",
              "      <td>0.476201</td>\n",
              "    </tr>\n",
              "    <tr>\n",
              "      <th>6</th>\n",
              "      <td>0.092010</td>\n",
              "      <td>0.907990</td>\n",
              "    </tr>\n",
              "    <tr>\n",
              "      <th>7</th>\n",
              "      <td>0.727273</td>\n",
              "      <td>0.272727</td>\n",
              "    </tr>\n",
              "    <tr>\n",
              "      <th>8</th>\n",
              "      <td>0.090332</td>\n",
              "      <td>0.909668</td>\n",
              "    </tr>\n",
              "    <tr>\n",
              "      <th>9</th>\n",
              "      <td>0.074582</td>\n",
              "      <td>0.925418</td>\n",
              "    </tr>\n",
              "  </tbody>\n",
              "</table>\n",
              "</div>\n",
              "      <button class=\"colab-df-convert\" onclick=\"convertToInteractive('df-99c7081f-250f-4315-a7aa-c5e03c7584b8')\"\n",
              "              title=\"Convert this dataframe to an interactive table.\"\n",
              "              style=\"display:none;\">\n",
              "        \n",
              "  <svg xmlns=\"http://www.w3.org/2000/svg\" height=\"24px\"viewBox=\"0 0 24 24\"\n",
              "       width=\"24px\">\n",
              "    <path d=\"M0 0h24v24H0V0z\" fill=\"none\"/>\n",
              "    <path d=\"M18.56 5.44l.94 2.06.94-2.06 2.06-.94-2.06-.94-.94-2.06-.94 2.06-2.06.94zm-11 1L8.5 8.5l.94-2.06 2.06-.94-2.06-.94L8.5 2.5l-.94 2.06-2.06.94zm10 10l.94 2.06.94-2.06 2.06-.94-2.06-.94-.94-2.06-.94 2.06-2.06.94z\"/><path d=\"M17.41 7.96l-1.37-1.37c-.4-.4-.92-.59-1.43-.59-.52 0-1.04.2-1.43.59L10.3 9.45l-7.72 7.72c-.78.78-.78 2.05 0 2.83L4 21.41c.39.39.9.59 1.41.59.51 0 1.02-.2 1.41-.59l7.78-7.78 2.81-2.81c.8-.78.8-2.07 0-2.86zM5.41 20L4 18.59l7.72-7.72 1.47 1.35L5.41 20z\"/>\n",
              "  </svg>\n",
              "      </button>\n",
              "      \n",
              "  <style>\n",
              "    .colab-df-container {\n",
              "      display:flex;\n",
              "      flex-wrap:wrap;\n",
              "      gap: 12px;\n",
              "    }\n",
              "\n",
              "    .colab-df-convert {\n",
              "      background-color: #E8F0FE;\n",
              "      border: none;\n",
              "      border-radius: 50%;\n",
              "      cursor: pointer;\n",
              "      display: none;\n",
              "      fill: #1967D2;\n",
              "      height: 32px;\n",
              "      padding: 0 0 0 0;\n",
              "      width: 32px;\n",
              "    }\n",
              "\n",
              "    .colab-df-convert:hover {\n",
              "      background-color: #E2EBFA;\n",
              "      box-shadow: 0px 1px 2px rgba(60, 64, 67, 0.3), 0px 1px 3px 1px rgba(60, 64, 67, 0.15);\n",
              "      fill: #174EA6;\n",
              "    }\n",
              "\n",
              "    [theme=dark] .colab-df-convert {\n",
              "      background-color: #3B4455;\n",
              "      fill: #D2E3FC;\n",
              "    }\n",
              "\n",
              "    [theme=dark] .colab-df-convert:hover {\n",
              "      background-color: #434B5C;\n",
              "      box-shadow: 0px 1px 3px 1px rgba(0, 0, 0, 0.15);\n",
              "      filter: drop-shadow(0px 1px 2px rgba(0, 0, 0, 0.3));\n",
              "      fill: #FFFFFF;\n",
              "    }\n",
              "  </style>\n",
              "\n",
              "      <script>\n",
              "        const buttonEl =\n",
              "          document.querySelector('#df-99c7081f-250f-4315-a7aa-c5e03c7584b8 button.colab-df-convert');\n",
              "        buttonEl.style.display =\n",
              "          google.colab.kernel.accessAllowed ? 'block' : 'none';\n",
              "\n",
              "        async function convertToInteractive(key) {\n",
              "          const element = document.querySelector('#df-99c7081f-250f-4315-a7aa-c5e03c7584b8');\n",
              "          const dataTable =\n",
              "            await google.colab.kernel.invokeFunction('convertToInteractive',\n",
              "                                                     [key], {});\n",
              "          if (!dataTable) return;\n",
              "\n",
              "          const docLinkHtml = 'Like what you see? Visit the ' +\n",
              "            '<a target=\"_blank\" href=https://colab.research.google.com/notebooks/data_table.ipynb>data table notebook</a>'\n",
              "            + ' to learn more about interactive tables.';\n",
              "          element.innerHTML = '';\n",
              "          dataTable['output_type'] = 'display_data';\n",
              "          await google.colab.output.renderOutput(dataTable, element);\n",
              "          const docLink = document.createElement('div');\n",
              "          docLink.innerHTML = docLinkHtml;\n",
              "          element.appendChild(docLink);\n",
              "        }\n",
              "      </script>\n",
              "    </div>\n",
              "  </div>\n",
              "  "
            ]
          },
          "metadata": {},
          "execution_count": 45
        }
      ]
    },
    {
      "cell_type": "code",
      "source": [
        "# print the first 10 predicted probabilities for class 1 - Probability of At Risk of CVD\n",
        "\n",
        "fit_model.predict_proba(X_test)[0:10, 1]"
      ],
      "metadata": {
        "colab": {
          "base_uri": "https://localhost:8080/"
        },
        "id": "Vtidv88GZuwD",
        "outputId": "60bd1f57-54e8-4fde-ec1b-765681e9a2a2"
      },
      "execution_count": 46,
      "outputs": [
        {
          "output_type": "execute_result",
          "data": {
            "text/plain": [
              "array([0.51589975, 0.16756293, 0.42043046, 0.52441356, 0.23223635,\n",
              "       0.47620131, 0.90799003, 0.27272711, 0.90966776, 0.9254184 ])"
            ]
          },
          "metadata": {},
          "execution_count": 46
        }
      ]
    },
    {
      "cell_type": "code",
      "source": [
        "# store the predicted probabilities for class 1 - Probability of At Risk of CVD\n",
        "\n",
        "y_pred1 = fit_model.predict_proba(X_test)[:, 1]"
      ],
      "metadata": {
        "id": "0T48ze17ZzqS"
      },
      "execution_count": 47,
      "outputs": []
    },
    {
      "cell_type": "code",
      "source": [
        "# plot histogram of predicted probabilities\n",
        "\n",
        "\n",
        "# adjust the font size \n",
        "plt.rcParams['font.size'] = 12\n",
        "\n",
        "\n",
        "# plot histogram with 10 bins\n",
        "plt.hist(y_pred1, bins = 10)\n",
        "\n",
        "\n",
        "# set the title of predicted probabilities\n",
        "plt.title('Histogram of predicted probabilities of At Risk CVD')\n",
        "\n",
        "\n",
        "# set the x-axis limit\n",
        "plt.xlim(0,1)\n",
        "\n",
        "\n",
        "# set the title\n",
        "plt.xlabel('Predicted probabilities of CVD')\n",
        "plt.ylabel('Frequency')"
      ],
      "metadata": {
        "colab": {
          "base_uri": "https://localhost:8080/",
          "height": 319
        },
        "id": "VcAcIB93Z4kJ",
        "outputId": "30c3816c-8665-4bc8-cdfe-964f4efc9cdd"
      },
      "execution_count": 48,
      "outputs": [
        {
          "output_type": "execute_result",
          "data": {
            "text/plain": [
              "Text(0, 0.5, 'Frequency')"
            ]
          },
          "metadata": {},
          "execution_count": 48
        },
        {
          "output_type": "display_data",
          "data": {
            "text/plain": [
              "<Figure size 432x288 with 1 Axes>"
            ],
            "image/png": "[encoded data removed]"
          },
          "metadata": {
            "needs_background": "light"
          }
        }
      ]
    },
    {
      "cell_type": "markdown",
      "source": [
        "## K-fold Cross Validation"
      ],
      "metadata": {
        "id": "qX6yEhNTf-bx"
      }
    },
    {
      "cell_type": "code",
      "source": [
        "from sklearn.model_selection import cross_val_score\n",
        "\n",
        "scores = cross_val_score(fit_model, X_train, y_train, cv = 5, scoring='accuracy')\n",
        "\n",
        "print('Cross-validation scores:{}'.format(scores))"
      ],
      "metadata": {
        "colab": {
          "base_uri": "https://localhost:8080/"
        },
        "id": "Y-_3AOcjaQbQ",
        "outputId": "91154fba-94f7-4fc4-9f52-63f196acd4dd"
      },
      "execution_count": 65,
      "outputs": [
        {
          "output_type": "stream",
          "name": "stdout",
          "text": [
            "Cross-validation scores:[0.79092527 0.80676759 0.78628673 0.79252004 0.80676759]\n"
          ]
        }
      ]
    },
    {
      "cell_type": "code",
      "source": [
        "# compute Average cross-validation score\n",
        "\n",
        "print('Average cross-validation score: {:.4f}'.format(scores.mean()))"
      ],
      "metadata": {
        "colab": {
          "base_uri": "https://localhost:8080/"
        },
        "id": "1dPxUaj4aWL0",
        "outputId": "b012a957-58ee-4916-a263-1692fb2e34d0"
      },
      "execution_count": 66,
      "outputs": [
        {
          "output_type": "stream",
          "name": "stdout",
          "text": [
            "Average cross-validation score: 0.7967\n"
          ]
        }
      ]
    }
  ]
}